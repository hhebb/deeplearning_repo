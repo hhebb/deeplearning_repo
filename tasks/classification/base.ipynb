{
 "cells": [
  {
   "cell_type": "markdown",
   "metadata": {},
   "source": [
    "# import"
   ]
  },
  {
   "cell_type": "code",
   "execution_count": 1,
   "metadata": {},
   "outputs": [
    {
     "name": "stdout",
     "output_type": "stream",
     "text": [
      "[Warning] Fused window process have not been installed. Please refer to get_started.md for installation.\n"
     ]
    }
   ],
   "source": [
    "import torch\n",
    "import pandas as pd\n",
    "from glob import glob\n",
    "import os\n",
    "\n",
    "from torch.utils.data.dataset import Dataset\n",
    "import cv2\n",
    "from PIL import Image\n",
    "import PIL\n",
    "import numpy as np\n",
    "from albumentations.pytorch import transforms\n",
    "import albumentations as A\n",
    "import timm\n",
    "import matplotlib.pyplot as plt\n",
    "import torchsummary\n",
    "from tqdm import tqdm\n",
    "import logging\n",
    "\n",
    "from models.vggnet import VGGNet\n",
    "from models.googlenet import GoogleNet\n",
    "from models.resnet import ResNet\n",
    "from models.densenet import DenseNet\n",
    "from models.xception import Xception\n",
    "from models.vit import ViT\n",
    "from models.swin_transformer import SwinTransformer"
   ]
  },
  {
   "cell_type": "code",
   "execution_count": 2,
   "metadata": {},
   "outputs": [],
   "source": [
    "# read\n",
    "base_path = '../../datasets/mnist'\n",
    "num = glob(f'{base_path}/training/*')\n",
    "# for i, n in enumerate(num):\n",
    "#     print(n)\n",
    "\n",
    "\n",
    "imgs = list()\n",
    "labels = list()\n",
    "\n",
    "for direc in glob(f'{base_path}/training/*'):\n",
    "    for p in glob(f'{direc}/*'):\n",
    "        num = p.split('/')[-2]\n",
    "        imgs.append(p)\n",
    "        labels.append(num)"
   ]
  },
  {
   "cell_type": "code",
   "execution_count": 3,
   "metadata": {},
   "outputs": [],
   "source": [
    "df = pd.DataFrame()\n",
    "df['img_path'] = imgs\n",
    "df['label'] = labels"
   ]
  },
  {
   "cell_type": "code",
   "execution_count": 4,
   "metadata": {},
   "outputs": [],
   "source": [
    "class Mnist(Dataset):\n",
    "    def __init__(self, df, transforms=None):\n",
    "        self.data = df\n",
    "        self.transforms = transforms\n",
    "\n",
    "    def __len__(self):\n",
    "        return len(self.data)\n",
    "\n",
    "    def __getitem__(self, idx):\n",
    "        path, label = self.data.iloc[idx]\n",
    "        img = np.array(Image.open(path))\n",
    "        img = np.expand_dims(img, -1)\n",
    "        img = np.concatenate([img, img, img], axis=-1)\n",
    "        img = self.transforms(image=img) if self.transforms else img\n",
    "        label = int(label)\n",
    "        \n",
    "        return img, label "
   ]
  },
  {
   "cell_type": "code",
   "execution_count": 5,
   "metadata": {},
   "outputs": [],
   "source": [
    "transform = A.Compose(\n",
    "    [\n",
    "        A.Resize(224, 224),\n",
    "        A.Normalize(mean=0.5, std=0.5),\n",
    "        transforms.ToTensorV2()\n",
    "    ]\n",
    ")"
   ]
  },
  {
   "cell_type": "code",
   "execution_count": 6,
   "metadata": {},
   "outputs": [],
   "source": [
    "ds = Mnist(df, transform)\n",
    "loader = torch.utils.data.DataLoader(ds, batch_size=64, shuffle=True)"
   ]
  },
  {
   "cell_type": "code",
   "execution_count": 7,
   "metadata": {},
   "outputs": [
    {
     "name": "stderr",
     "output_type": "stream",
     "text": [
      "Clipping input data to the valid range for imshow with RGB data ([0..1] for floats or [0..255] for integers).\n"
     ]
    },
    {
     "data": {
      "text/plain": [
       "<matplotlib.image.AxesImage at 0x7f8c83fd8070>"
      ]
     },
     "execution_count": 7,
     "metadata": {},
     "output_type": "execute_result"
    },
    {
     "data": {
      "image/png": "[encoded data removed]",
      "text/plain": [
       "<Figure size 432x288 with 1 Axes>"
      ]
     },
     "metadata": {
      "needs_background": "light"
     },
     "output_type": "display_data"
    }
   ],
   "source": [
    "img, label = ds.__getitem__(1)\n",
    "plt.imshow(np.transpose(img['image'], (1, 2, 0)), cmap='gray')"
   ]
  },
  {
   "cell_type": "code",
   "execution_count": 8,
   "metadata": {},
   "outputs": [
    {
     "name": "stderr",
     "output_type": "stream",
     "text": [
      "/home/hebb/anaconda3/lib/python3.9/site-packages/torch/functional.py:478: UserWarning: torch.meshgrid: in an upcoming release, it will be required to pass the indexing argument. (Triggered internally at  /opt/conda/conda-bld/pytorch_1659484809662/work/aten/src/ATen/native/TensorShape.cpp:2894.)\n",
      "  return _VF.meshgrid(tensors, **kwargs)  # type: ignore[attr-defined]\n"
     ]
    }
   ],
   "source": [
    "model = SwinTransformer(num_classes=10)\n",
    "criterion = torch.nn.CrossEntropyLoss()\n",
    "optim = torch.optim.Adam(model.parameters(), lr=2e-05, weight_decay=1e-8)"
   ]
  },
  {
   "cell_type": "code",
   "execution_count": 9,
   "metadata": {},
   "outputs": [
    {
     "name": "stderr",
     "output_type": "stream",
     "text": [
      "  0%|          | 0/938 [00:00<?, ?it/s]/tmp/ipykernel_786/3851365311.py:21: UserWarning: To copy construct from a tensor, it is recommended to use sourceTensor.clone().detach() or sourceTensor.clone().detach().requires_grad_(True), rather than torch.tensor(sourceTensor).\n",
      "  label = torch.tensor(label, dtype=torch.float32).to('cuda:0')\n",
      "100%|██████████| 938/938 [09:37<00:00,  1.63it/s]\n"
     ]
    },
    {
     "name": "stdout",
     "output_type": "stream",
     "text": [
      "loss:  tensor(0.0327, device='cuda:0', grad_fn=<DivBackward0>)\n",
      "acc:  tensor(0.2368)\n"
     ]
    },
    {
     "name": "stderr",
     "output_type": "stream",
     "text": [
      " 52%|█████▏    | 491/938 [04:54<04:30,  1.65it/s]"
     ]
    }
   ],
   "source": [
    "for epoch in range(10):\n",
    "    import os\n",
    "    if os.path.exists('train.log'):\n",
    "        os.remove('train.log')\n",
    "    logger = logging.Logger('train')\n",
    "    handler = logging.FileHandler('train.log')\n",
    "    logger.addHandler(handler)\n",
    "\n",
    "    model.train()\n",
    "    model.to('cuda:0')\n",
    "\n",
    "    ep_loss = 0\n",
    "    ep_acc = 0\n",
    "    step = 0\n",
    "    for data in tqdm(loader):\n",
    "        step += 1\n",
    "\n",
    "        img, label = data\n",
    "        img = img['image'].type(torch.float32)\n",
    "        img = img.to('cuda:0')\n",
    "        label = torch.tensor(label, dtype=torch.float32).to('cuda:0')\n",
    "        pred = model(img)\n",
    "        pred = pred.type(torch.float32)\n",
    "        pred.requires_grad_(True)\n",
    "\n",
    "        loss = criterion(pred, label.type(torch.int64))\n",
    "        optim.zero_grad()\n",
    "        loss.backward()\n",
    "        optim.step()\n",
    "\n",
    "        ep_loss += loss\n",
    "        \n",
    "        m = pred.detach().cpu().max(1, keepdim=True)[1]\n",
    "        acc = m.eq(label.cpu().data.view_as(m)).sum()\n",
    "        ep_acc += acc\n",
    "\n",
    "        # if step == 8:\n",
    "        #     optim.step()\n",
    "        #     optim.zero_grad()\n",
    "        #     step = 0\n",
    "        logger.info(f'acc: {acc / len(data)},  loss: {loss}')\n",
    "\n",
    "    print('loss: ', ep_loss / len(loader.dataset))\n",
    "    print('acc: ', ep_acc / len(loader.dataset))\n",
    "        "
   ]
  },
  {
   "cell_type": "code",
   "execution_count": null,
   "metadata": {},
   "outputs": [
    {
     "name": "stdout",
     "output_type": "stream",
     "text": [
      "----------------------------------------------------------------\n",
      "        Layer (type)               Output Shape         Param #\n",
      "================================================================\n",
      "       BatchNorm2d-1          [-1, 3, 224, 224]               6\n",
      "              ReLU-2          [-1, 3, 224, 224]               0\n",
      "            Conv2d-3         [-1, 32, 111, 111]             864\n",
      "       BatchNorm2d-4         [-1, 32, 111, 111]              64\n",
      "              ReLU-5         [-1, 32, 111, 111]               0\n",
      "            Conv2d-6         [-1, 64, 109, 109]          18,432\n",
      "       BatchNorm2d-7         [-1, 64, 109, 109]             128\n",
      "              ReLU-8         [-1, 64, 109, 109]               0\n",
      "            Conv2d-9        [-1, 128, 109, 109]           8,192\n",
      "      BatchNorm2d-10        [-1, 128, 109, 109]             256\n",
      "             ReLU-11        [-1, 128, 109, 109]               0\n",
      "           Conv2d-12        [-1, 128, 109, 109]           1,152\n",
      "      BatchNorm2d-13        [-1, 128, 109, 109]             256\n",
      "             ReLU-14        [-1, 128, 109, 109]               0\n",
      "           Conv2d-15        [-1, 128, 109, 109]          16,384\n",
      "      BatchNorm2d-16        [-1, 128, 109, 109]             256\n",
      "             ReLU-17        [-1, 128, 109, 109]               0\n",
      "           Conv2d-18        [-1, 128, 109, 109]           1,152\n",
      "        MaxPool2d-19          [-1, 128, 54, 54]               0\n",
      "      BatchNorm2d-20          [-1, 128, 54, 54]             256\n",
      "             ReLU-21          [-1, 128, 54, 54]               0\n",
      "           Conv2d-22          [-1, 256, 54, 54]          32,768\n",
      "      BatchNorm2d-23          [-1, 256, 54, 54]             512\n",
      "             ReLU-24          [-1, 256, 54, 54]               0\n",
      "           Conv2d-25          [-1, 256, 54, 54]           2,304\n",
      "      BatchNorm2d-26          [-1, 256, 54, 54]             512\n",
      "             ReLU-27          [-1, 256, 54, 54]               0\n",
      "           Conv2d-28          [-1, 256, 54, 54]          65,536\n",
      "      BatchNorm2d-29          [-1, 256, 54, 54]             512\n",
      "             ReLU-30          [-1, 256, 54, 54]               0\n",
      "           Conv2d-31          [-1, 256, 54, 54]           2,304\n",
      "        MaxPool2d-32          [-1, 256, 26, 26]               0\n",
      "      BatchNorm2d-33          [-1, 256, 26, 26]             512\n",
      "             ReLU-34          [-1, 256, 26, 26]               0\n",
      "           Conv2d-35          [-1, 728, 26, 26]         186,368\n",
      "      BatchNorm2d-36          [-1, 728, 26, 26]           1,456\n",
      "             ReLU-37          [-1, 728, 26, 26]               0\n",
      "           Conv2d-38          [-1, 728, 26, 26]           6,552\n",
      "      BatchNorm2d-39          [-1, 728, 26, 26]           1,456\n",
      "             ReLU-40          [-1, 728, 26, 26]               0\n",
      "           Conv2d-41          [-1, 728, 26, 26]         529,984\n",
      "      BatchNorm2d-42          [-1, 728, 26, 26]           1,456\n",
      "             ReLU-43          [-1, 728, 26, 26]               0\n",
      "           Conv2d-44          [-1, 728, 26, 26]           6,552\n",
      "        MaxPool2d-45          [-1, 728, 12, 12]               0\n",
      "      BatchNorm2d-46          [-1, 728, 12, 12]           1,456\n",
      "             ReLU-47          [-1, 728, 12, 12]               0\n",
      "           Conv2d-48          [-1, 728, 12, 12]         529,984\n",
      "      BatchNorm2d-49          [-1, 728, 12, 12]           1,456\n",
      "             ReLU-50          [-1, 728, 12, 12]               0\n",
      "           Conv2d-51          [-1, 728, 12, 12]           6,552\n",
      "      BatchNorm2d-52          [-1, 728, 12, 12]           1,456\n",
      "             ReLU-53          [-1, 728, 12, 12]               0\n",
      "           Conv2d-54          [-1, 728, 12, 12]         529,984\n",
      "      BatchNorm2d-55          [-1, 728, 12, 12]           1,456\n",
      "             ReLU-56          [-1, 728, 12, 12]               0\n",
      "           Conv2d-57          [-1, 728, 12, 12]           6,552\n",
      "      BatchNorm2d-58          [-1, 728, 12, 12]           1,456\n",
      "             ReLU-59          [-1, 728, 12, 12]               0\n",
      "           Conv2d-60          [-1, 728, 12, 12]         529,984\n",
      "      BatchNorm2d-61          [-1, 728, 12, 12]           1,456\n",
      "             ReLU-62          [-1, 728, 12, 12]               0\n",
      "           Conv2d-63          [-1, 728, 12, 12]           6,552\n",
      "      BatchNorm2d-64          [-1, 728, 12, 12]           1,456\n",
      "             ReLU-65          [-1, 728, 12, 12]               0\n",
      "           Conv2d-66          [-1, 728, 12, 12]         529,984\n",
      "      BatchNorm2d-67          [-1, 728, 12, 12]           1,456\n",
      "             ReLU-68          [-1, 728, 12, 12]               0\n",
      "           Conv2d-69          [-1, 728, 12, 12]           6,552\n",
      "      BatchNorm2d-70          [-1, 728, 12, 12]           1,456\n",
      "             ReLU-71          [-1, 728, 12, 12]               0\n",
      "           Conv2d-72          [-1, 728, 12, 12]         529,984\n",
      "      BatchNorm2d-73          [-1, 728, 12, 12]           1,456\n",
      "             ReLU-74          [-1, 728, 12, 12]               0\n",
      "           Conv2d-75          [-1, 728, 12, 12]           6,552\n",
      "      BatchNorm2d-76          [-1, 728, 12, 12]           1,456\n",
      "             ReLU-77          [-1, 728, 12, 12]               0\n",
      "           Conv2d-78          [-1, 728, 12, 12]         529,984\n",
      "      BatchNorm2d-79          [-1, 728, 12, 12]           1,456\n",
      "             ReLU-80          [-1, 728, 12, 12]               0\n",
      "           Conv2d-81          [-1, 728, 12, 12]           6,552\n",
      "      BatchNorm2d-82          [-1, 728, 12, 12]           1,456\n",
      "             ReLU-83          [-1, 728, 12, 12]               0\n",
      "           Conv2d-84          [-1, 728, 12, 12]         529,984\n",
      "      BatchNorm2d-85          [-1, 728, 12, 12]           1,456\n",
      "             ReLU-86          [-1, 728, 12, 12]               0\n",
      "           Conv2d-87          [-1, 728, 12, 12]           6,552\n",
      "      BatchNorm2d-88          [-1, 728, 12, 12]           1,456\n",
      "             ReLU-89          [-1, 728, 12, 12]               0\n",
      "           Conv2d-90          [-1, 728, 12, 12]         529,984\n",
      "      BatchNorm2d-91          [-1, 728, 12, 12]           1,456\n",
      "             ReLU-92          [-1, 728, 12, 12]               0\n",
      "           Conv2d-93          [-1, 728, 12, 12]           6,552\n",
      "      BatchNorm2d-94          [-1, 728, 12, 12]           1,456\n",
      "             ReLU-95          [-1, 728, 12, 12]               0\n",
      "           Conv2d-96          [-1, 728, 12, 12]         529,984\n",
      "      BatchNorm2d-97          [-1, 728, 12, 12]           1,456\n",
      "             ReLU-98          [-1, 728, 12, 12]               0\n",
      "           Conv2d-99          [-1, 728, 12, 12]           6,552\n",
      "     BatchNorm2d-100          [-1, 728, 12, 12]           1,456\n",
      "            ReLU-101          [-1, 728, 12, 12]               0\n",
      "          Conv2d-102          [-1, 728, 12, 12]         529,984\n",
      "     BatchNorm2d-103          [-1, 728, 12, 12]           1,456\n",
      "            ReLU-104          [-1, 728, 12, 12]               0\n",
      "          Conv2d-105          [-1, 728, 12, 12]           6,552\n",
      "     BatchNorm2d-106          [-1, 728, 12, 12]           1,456\n",
      "            ReLU-107          [-1, 728, 12, 12]               0\n",
      "          Conv2d-108          [-1, 728, 12, 12]         529,984\n",
      "     BatchNorm2d-109          [-1, 728, 12, 12]           1,456\n",
      "            ReLU-110          [-1, 728, 12, 12]               0\n",
      "          Conv2d-111          [-1, 728, 12, 12]           6,552\n",
      "     BatchNorm2d-112          [-1, 728, 12, 12]           1,456\n",
      "            ReLU-113          [-1, 728, 12, 12]               0\n",
      "          Conv2d-114          [-1, 728, 12, 12]         529,984\n",
      "     BatchNorm2d-115          [-1, 728, 12, 12]           1,456\n",
      "            ReLU-116          [-1, 728, 12, 12]               0\n",
      "          Conv2d-117          [-1, 728, 12, 12]           6,552\n",
      "     BatchNorm2d-118          [-1, 728, 12, 12]           1,456\n",
      "            ReLU-119          [-1, 728, 12, 12]               0\n",
      "          Conv2d-120          [-1, 728, 12, 12]         529,984\n",
      "     BatchNorm2d-121          [-1, 728, 12, 12]           1,456\n",
      "            ReLU-122          [-1, 728, 12, 12]               0\n",
      "          Conv2d-123          [-1, 728, 12, 12]           6,552\n",
      "     BatchNorm2d-124          [-1, 728, 12, 12]           1,456\n",
      "            ReLU-125          [-1, 728, 12, 12]               0\n",
      "          Conv2d-126          [-1, 728, 12, 12]         529,984\n",
      "     BatchNorm2d-127          [-1, 728, 12, 12]           1,456\n",
      "            ReLU-128          [-1, 728, 12, 12]               0\n",
      "          Conv2d-129          [-1, 728, 12, 12]           6,552\n",
      "     BatchNorm2d-130          [-1, 728, 12, 12]           1,456\n",
      "            ReLU-131          [-1, 728, 12, 12]               0\n",
      "          Conv2d-132          [-1, 728, 12, 12]         529,984\n",
      "     BatchNorm2d-133          [-1, 728, 12, 12]           1,456\n",
      "            ReLU-134          [-1, 728, 12, 12]               0\n",
      "          Conv2d-135          [-1, 728, 12, 12]           6,552\n",
      "     BatchNorm2d-136          [-1, 728, 12, 12]           1,456\n",
      "            ReLU-137          [-1, 728, 12, 12]               0\n",
      "          Conv2d-138          [-1, 728, 12, 12]         529,984\n",
      "     BatchNorm2d-139          [-1, 728, 12, 12]           1,456\n",
      "            ReLU-140          [-1, 728, 12, 12]               0\n",
      "          Conv2d-141          [-1, 728, 12, 12]           6,552\n",
      "     BatchNorm2d-142          [-1, 728, 12, 12]           1,456\n",
      "            ReLU-143          [-1, 728, 12, 12]               0\n",
      "          Conv2d-144          [-1, 728, 12, 12]         529,984\n",
      "     BatchNorm2d-145          [-1, 728, 12, 12]           1,456\n",
      "            ReLU-146          [-1, 728, 12, 12]               0\n",
      "          Conv2d-147          [-1, 728, 12, 12]           6,552\n",
      "     BatchNorm2d-148          [-1, 728, 12, 12]           1,456\n",
      "            ReLU-149          [-1, 728, 12, 12]               0\n",
      "          Conv2d-150          [-1, 728, 12, 12]         529,984\n",
      "     BatchNorm2d-151          [-1, 728, 12, 12]           1,456\n",
      "            ReLU-152          [-1, 728, 12, 12]               0\n",
      "          Conv2d-153          [-1, 728, 12, 12]           6,552\n",
      "     BatchNorm2d-154          [-1, 728, 12, 12]           1,456\n",
      "            ReLU-155          [-1, 728, 12, 12]               0\n",
      "          Conv2d-156          [-1, 728, 12, 12]         529,984\n",
      "     BatchNorm2d-157          [-1, 728, 12, 12]           1,456\n",
      "            ReLU-158          [-1, 728, 12, 12]               0\n",
      "          Conv2d-159          [-1, 728, 12, 12]           6,552\n",
      "     BatchNorm2d-160          [-1, 728, 12, 12]           1,456\n",
      "            ReLU-161          [-1, 728, 12, 12]               0\n",
      "          Conv2d-162          [-1, 728, 12, 12]         529,984\n",
      "     BatchNorm2d-163          [-1, 728, 12, 12]           1,456\n",
      "            ReLU-164          [-1, 728, 12, 12]               0\n",
      "          Conv2d-165          [-1, 728, 12, 12]           6,552\n",
      "     BatchNorm2d-166          [-1, 728, 12, 12]           1,456\n",
      "            ReLU-167          [-1, 728, 12, 12]               0\n",
      "          Conv2d-168          [-1, 728, 12, 12]         529,984\n",
      "     BatchNorm2d-169          [-1, 728, 12, 12]           1,456\n",
      "            ReLU-170          [-1, 728, 12, 12]               0\n",
      "          Conv2d-171          [-1, 728, 12, 12]           6,552\n",
      "     BatchNorm2d-172          [-1, 728, 12, 12]           1,456\n",
      "            ReLU-173          [-1, 728, 12, 12]               0\n",
      "          Conv2d-174          [-1, 728, 12, 12]         529,984\n",
      "     BatchNorm2d-175          [-1, 728, 12, 12]           1,456\n",
      "            ReLU-176          [-1, 728, 12, 12]               0\n",
      "          Conv2d-177          [-1, 728, 12, 12]           6,552\n",
      "     BatchNorm2d-178          [-1, 728, 12, 12]           1,456\n",
      "            ReLU-179          [-1, 728, 12, 12]               0\n",
      "          Conv2d-180          [-1, 728, 12, 12]         529,984\n",
      "     BatchNorm2d-181          [-1, 728, 12, 12]           1,456\n",
      "            ReLU-182          [-1, 728, 12, 12]               0\n",
      "          Conv2d-183          [-1, 728, 12, 12]           6,552\n",
      "     BatchNorm2d-184          [-1, 728, 12, 12]           1,456\n",
      "            ReLU-185          [-1, 728, 12, 12]               0\n",
      "          Conv2d-186          [-1, 728, 12, 12]         529,984\n",
      "     BatchNorm2d-187          [-1, 728, 12, 12]           1,456\n",
      "            ReLU-188          [-1, 728, 12, 12]               0\n",
      "          Conv2d-189          [-1, 728, 12, 12]           6,552\n",
      "     BatchNorm2d-190          [-1, 728, 12, 12]           1,456\n",
      "            ReLU-191          [-1, 728, 12, 12]               0\n",
      "          Conv2d-192          [-1, 728, 12, 12]         529,984\n",
      "     BatchNorm2d-193          [-1, 728, 12, 12]           1,456\n",
      "            ReLU-194          [-1, 728, 12, 12]               0\n",
      "          Conv2d-195          [-1, 728, 12, 12]           6,552\n",
      "     BatchNorm2d-196          [-1, 728, 12, 12]           1,456\n",
      "            ReLU-197          [-1, 728, 12, 12]               0\n",
      "          Conv2d-198         [-1, 1024, 12, 12]         745,472\n",
      "     BatchNorm2d-199         [-1, 1024, 12, 12]           2,048\n",
      "            ReLU-200         [-1, 1024, 12, 12]               0\n",
      "          Conv2d-201         [-1, 1024, 12, 12]           9,216\n",
      "       MaxPool2d-202           [-1, 1024, 5, 5]               0\n",
      "     BatchNorm2d-203           [-1, 1024, 5, 5]           2,048\n",
      "            ReLU-204           [-1, 1024, 5, 5]               0\n",
      "          Conv2d-205           [-1, 1536, 5, 5]       1,572,864\n",
      "     BatchNorm2d-206           [-1, 1536, 5, 5]           3,072\n",
      "            ReLU-207           [-1, 1536, 5, 5]               0\n",
      "          Conv2d-208           [-1, 1536, 5, 5]          13,824\n",
      "     BatchNorm2d-209           [-1, 1536, 5, 5]           3,072\n",
      "            ReLU-210           [-1, 1536, 5, 5]               0\n",
      "          Conv2d-211           [-1, 2048, 5, 5]       3,145,728\n",
      "     BatchNorm2d-212           [-1, 2048, 5, 5]           4,096\n",
      "            ReLU-213           [-1, 2048, 5, 5]               0\n",
      "          Conv2d-214           [-1, 2048, 5, 5]          18,432\n",
      "AdaptiveAvgPool2d-215           [-1, 2048, 1, 1]               0\n",
      "         Flatten-216                 [-1, 2048]               0\n",
      "          Linear-217                   [-1, 10]          20,490\n",
      "================================================================\n",
      "Total params: 19,914,200\n",
      "Trainable params: 19,914,200\n",
      "Non-trainable params: 0\n",
      "----------------------------------------------------------------\n",
      "Input size (MB): 0.57\n",
      "Forward/backward pass size (MB): 382.56\n",
      "Params size (MB): 75.97\n",
      "Estimated Total Size (MB): 459.10\n",
      "----------------------------------------------------------------\n"
     ]
    }
   ],
   "source": [
    "torchsummary.summary(model, (3, 224, 224))"
   ]
  }
 ],
 "metadata": {
  "kernelspec": {
   "display_name": "Python 3.9.12 ('base')",
   "language": "python",
   "name": "python3"
  },
  "language_info": {
   "codemirror_mode": {
    "name": "ipython",
    "version": 3
   },
   "file_extension": ".py",
   "mimetype": "text/x-python",
   "name": "python",
   "nbconvert_exporter": "python",
   "pygments_lexer": "ipython3",
   "version": "3.9.12"
  },
  "orig_nbformat": 4,
  "vscode": {
   "interpreter": {
    "hash": "9dd979c77fcde639c21f4338339a22090b916d4a09dd85e8db78c65a8dce030e"
   }
  }
 },
 "nbformat": 4,
 "nbformat_minor": 2
}
