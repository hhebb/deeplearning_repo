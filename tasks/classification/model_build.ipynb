{
 "cells": [
  {
   "cell_type": "code",
   "execution_count": 2,
   "metadata": {},
   "outputs": [],
   "source": [
    "import torch\n",
    "import numpy as np\n",
    "import torchsummary\n",
    "import torchvision"
   ]
  },
  {
   "cell_type": "code",
   "execution_count": 8,
   "metadata": {},
   "outputs": [],
   "source": [
    "class Xception(torch.nn.Module):\n",
    "    def __init__(self, growth_rate=12, num_layers=100, theta=0.5):\n",
    "        super().__init__()\n",
    "\n",
    "        # entry flow\n",
    "        self.conv_1 = ConvBlock(in_channels=3, out_channels=32, kernel=3, stride=2)\n",
    "        self.conv_2 = ConvBlock(in_channels=32, out_channels=64, kernel=3, stride=1)\n",
    "\n",
    "        self.sep_conv_1 = SeparableConv(in_channels=64, out_channels=128)\n",
    "        self.sep_conv_2 = SeparableConv(in_channels=128, out_channels=128)\n",
    "        self.pool_1 = torch.nn.MaxPool2d(kernel_size=3, stride=2)\n",
    "\n",
    "        self.sep_conv_3 = SeparableConv(in_channels=128, out_channels=256)\n",
    "        self.sep_conv_4 = SeparableConv(in_channels=256, out_channels=256)\n",
    "        self.pool_2 = torch.nn.MaxPool2d(kernel_size=3, stride=2)\n",
    "\n",
    "        self.sep_conv_5 = SeparableConv(in_channels=256, out_channels=728)\n",
    "        self.sep_conv_6 = SeparableConv(in_channels=728, out_channels=728)\n",
    "        self.pool_3 = torch.nn.MaxPool2d(kernel_size=3, stride=2)\n",
    "\n",
    "        # middle flow\n",
    "        self.middle = []\n",
    "        \n",
    "        for i in range(8):\n",
    "            seq = torch.nn.Sequential()\n",
    "            for j in range(3):\n",
    "                seq.add_module(f'sep_conv_m_{i}_{j}', SeparableConv(in_channels=728, out_channels=728))\n",
    "            \n",
    "            self.middle.append(seq)\n",
    "\n",
    "        # exit flow\n",
    "        self.sep_conv_7 = SeparableConv(in_channels=728, out_channels=728)\n",
    "        self.sep_conv_8 = SeparableConv(in_channels=728, out_channels=1024)\n",
    "        self.pool_4 = torch.nn.MaxPool2d(kernel_size=3, stride=2)\n",
    "\n",
    "        self.sep_conv_9 = SeparableConv(in_channels=1024, out_channels=1536)\n",
    "        self.sep_conv_10 = SeparableConv(in_channels=1536, out_channels=2048)\n",
    "        self.gap = torch.nn.AdaptiveAvgPool2d(1)\n",
    "        self.flatten = torch.nn.Flatten(start_dim=1)\n",
    "        self.fc = torch.nn.Linear(2048, 10)\n",
    "        \n",
    "\n",
    "    def forward(self, x):\n",
    "        # entry\n",
    "        x = self.conv_1(x)\n",
    "        entry = self.conv_2(x)\n",
    "\n",
    "        out_1 = self.sep_conv_1(entry)\n",
    "        out_1 = self.sep_conv_2(out_1)\n",
    "        out_1 = self.pool_1(out_1)\n",
    "\n",
    "        out_2 = self.sep_conv_3(out_1)\n",
    "        out_2 = self.sep_conv_4(out_2)\n",
    "        out_2 = self.pool_2(out_2)\n",
    "\n",
    "        out_3 = self.sep_conv_5(out_2)\n",
    "        out_3 = self.sep_conv_6(out_3)\n",
    "        out_3 = self.pool_3(out_3)\n",
    "        # print(out_3.shape)\n",
    "        \n",
    "        # middle\n",
    "        for i in range(8):\n",
    "            middle = self.middle[i](out_3)\n",
    "\n",
    "        # exit\n",
    "        # print(middle.shape)\n",
    "        exit = self.sep_conv_7(middle)\n",
    "        exit = self.sep_conv_8(exit)\n",
    "        exit = self.pool_4(exit)\n",
    "\n",
    "        exit = self.sep_conv_9(exit)\n",
    "        exit = self.sep_conv_10(exit)\n",
    "        exit = self.gap(exit)\n",
    "        exit = self.flatten(exit)\n",
    "        exit = self.fc(exit)\n",
    "\n",
    "        return exit\n",
    "\n",
    "\n",
    "class SeparableConv(torch.nn.Sequential):\n",
    "    def __init__(self, in_channels, out_channels):\n",
    "        super().__init__()\n",
    "        # 1x1 conv\n",
    "        self.add_module('pointwise', ConvBlock(in_channels=in_channels, out_channels=out_channels, kernel=1, stride=1, padding=0, group=1))\n",
    "        # depthwise\n",
    "        self.add_module('depthwise', ConvBlock(in_channels=out_channels, out_channels=out_channels, kernel=3, stride=1, padding=1, group=out_channels))\n",
    "\n",
    "\n",
    "class ConvBlock(torch.nn.Sequential):\n",
    "    def __init__(self, in_channels, out_channels, kernel, stride, padding=0, group=1):\n",
    "        super().__init__()\n",
    "        self.add_module('bn', torch.nn.BatchNorm2d(in_channels))\n",
    "        self.add_module('relu', torch.nn.ReLU(True))\n",
    "        self.add_module('conv', torch.nn.Conv2d(in_channels, out_channels, kernel_size=kernel, stride=stride, padding=padding, groups=group, bias=False))\n"
   ]
  },
  {
   "cell_type": "code",
   "execution_count": 9,
   "metadata": {},
   "outputs": [
    {
     "data": {
      "text/plain": [
       "torch.Size([4, 10])"
      ]
     },
     "execution_count": 9,
     "metadata": {},
     "output_type": "execute_result"
    }
   ],
   "source": [
    "# GAP\n",
    "# noramlize\n",
    "dummy = torch.rand(size=(4, 3, 112, 112), dtype=torch.float32)\n",
    "model = Xception()\n",
    "model(dummy).shape"
   ]
  },
  {
   "cell_type": "code",
   "execution_count": 18,
   "metadata": {},
   "outputs": [
    {
     "data": {
      "text/plain": [
       "torch.Size([4, 18, 222, 222])"
      ]
     },
     "execution_count": 18,
     "metadata": {},
     "output_type": "execute_result"
    }
   ],
   "source": [
    "conv = torch.nn.Conv2d(in_channels=12, out_channels=18, kernel_size=3, groups=6)\n",
    "conv(dummy).shape\n"
   ]
  },
  {
   "cell_type": "code",
   "execution_count": 14,
   "metadata": {},
   "outputs": [
    {
     "name": "stdout",
     "output_type": "stream",
     "text": [
      "torch.Size([4, 2048])\n"
     ]
    },
    {
     "data": {
      "text/plain": [
       "(torch.Size([4, 2048]), torch.Size([4, 10]))"
      ]
     },
     "execution_count": 14,
     "metadata": {},
     "output_type": "execute_result"
    }
   ],
   "source": [
    "dummy = torch.rand(size=(4, 2048, 1, 1)).flatten(start_dim=1)\n",
    "gap = torch.nn.Linear(2048, 10)\n",
    "dummy.shape, gap(dummy).shape"
   ]
  }
 ],
 "metadata": {
  "kernelspec": {
   "display_name": "Python 3.9.12 ('base')",
   "language": "python",
   "name": "python3"
  },
  "language_info": {
   "codemirror_mode": {
    "name": "ipython",
    "version": 3
   },
   "file_extension": ".py",
   "mimetype": "text/x-python",
   "name": "python",
   "nbconvert_exporter": "python",
   "pygments_lexer": "ipython3",
   "version": "3.9.12"
  },
  "orig_nbformat": 4,
  "vscode": {
   "interpreter": {
    "hash": "9dd979c77fcde639c21f4338339a22090b916d4a09dd85e8db78c65a8dce030e"
   }
  }
 },
 "nbformat": 4,
 "nbformat_minor": 2
}
