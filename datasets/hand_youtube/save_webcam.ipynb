{
 "cells": [
  {
   "cell_type": "code",
   "execution_count": 1,
   "metadata": {},
   "outputs": [],
   "source": [
    "from glob import glob\n",
    "import pandas as pd\n",
    "import cv2\n",
    "import os\n",
    "from PIL import Image\n",
    "import numpy as np"
   ]
  },
  {
   "cell_type": "code",
   "execution_count": 11,
   "metadata": {},
   "outputs": [],
   "source": [
    "'''\n",
    "    캡처, 동영상 저장\n",
    "'''\n",
    "\n",
    "# file name\n",
    "f_name = 'sample_7.avi'\n",
    "\n",
    "# cap\n",
    "cap = cv2.VideoCapture(0)\n",
    "cap.set(3,640)\n",
    "cap.set(4,480)\n",
    "\n",
    "# writer\n",
    "w = round(cap.get(cv2.CAP_PROP_FRAME_WIDTH))\n",
    "h = round(cap.get(cv2.CAP_PROP_FRAME_HEIGHT))\n",
    "fps = cap.get(cv2.CAP_PROP_FPS) # 카메라에 따라 값이 정상적, 비정상적\n",
    "fourcc = cv2.VideoWriter_fourcc(*'DIVX')\n",
    "\n",
    "# 1프레임과 다음 프레임 사이의 간격 설정\n",
    "delay = round(1000/fps)\n",
    "out = cv2.VideoWriter(f_name, fourcc, fps, (w, h))\n",
    "\n",
    "\n",
    "while(True):\n",
    "    ret, frame = cap.read()\n",
    "\n",
    "    if (ret):\n",
    "        cv2.imshow('frame', frame)\n",
    "        out.write(frame[..., ::-1])\n",
    "        if cv2.waitKey(1) & 0xFF == ord('q'):\n",
    "            break\n",
    "\n",
    "cap.release()\n",
    "out.release()\n",
    "cv2.destroyAllWindows()"
   ]
  },
  {
   "cell_type": "code",
   "execution_count": 18,
   "metadata": {},
   "outputs": [],
   "source": [
    "'''\n",
    "    저장된 동영상을 프레임 단위로 검사하고 이미지로 저장\n",
    "'''\n",
    "\n",
    "v_name = 'sample_7.avi'\n",
    "v_index = 50\n",
    "\n",
    "cap = cv2.VideoCapture(v_name)\n",
    "base_path = r'\\\\wsl.localhost\\Ubuntu-20.04\\home\\hebb\\ml\\datasets\\hand_youtube\\images'\n",
    "\n",
    "quit = False\n",
    "f_idx = 0\n",
    "while True:\n",
    "    ret, frame = cap.read()\n",
    "\n",
    "    if ret:\n",
    "        while True:\n",
    "            cv2.imshow('frame', frame)\n",
    "            if cv2.waitKey(1) & 0xFF == ord('s'):\n",
    "                # 'save'\n",
    "                Image.fromarray(frame).save(os.path.join(base_path, f'{v_index}_{f_idx}.jpg'))\n",
    "                break\n",
    "            elif cv2.waitKey(1) & 0xFF == ord('d'):\n",
    "                # 'pass'\n",
    "                break\n",
    "            elif cv2.waitKey(1) & 0xFF == ord('q'):\n",
    "                # 'pass'\n",
    "                quit = True\n",
    "                break\n",
    "    else:\n",
    "        break\n",
    "\n",
    "    if quit:\n",
    "        break\n",
    "    f_idx += 1\n",
    "    \n",
    "cap.release()\n",
    "cv2.destroyAllWindows()"
   ]
  },
  {
   "cell_type": "code",
   "execution_count": 7,
   "metadata": {},
   "outputs": [],
   "source": [
    "'''\n",
    "    저장된 동영상을 전체 프레임을 이미지로 저장\n",
    "'''\n",
    "\n",
    "cap = cv2.VideoCapture('target_domain_5.avi')\n",
    "base_path = r'\\\\wsl.localhost\\Ubuntu-20.04\\home\\hebb\\ml\\datasets\\RHD_hand\\RHD_v1-1\\target_domain'\n",
    "n_samples = len(glob(f'{base_path}\\*'))\n",
    "\n",
    "quit = False\n",
    "while True:\n",
    "    ret, frame = cap.read()\n",
    "\n",
    "    if ret:\n",
    "        # 'save'\n",
    "        Image.fromarray(frame).save(os.path.join(base_path, f'{n_samples}.jpg'))\n",
    "        n_samples += 1\n",
    "    else:\n",
    "        break\n",
    "    \n",
    "cap.release()\n",
    "cv2.destroyAllWindows()"
   ]
  },
  {
   "cell_type": "code",
   "execution_count": 8,
   "metadata": {},
   "outputs": [],
   "source": [
    "# 약 2000 장\n",
    "# 웹캠 옮겨서 손만 안보이게 하고 이리저리 움직이기\n",
    "# 비디오를 저장하고 거기서 프레임 단위로 저장하기\n",
    "\n",
    "base_path = r'\\\\wsl.localhost\\Ubuntu-20.04\\home\\hebb\\ml\\datasets\\RHD_hand\\RHD_v1-1\\target_domain' #negative_samples\n",
    "\n",
    "imgs = list()\n",
    "masks = list()\n",
    "\n",
    "# single frame for negative label\n",
    "mask = r'\\\\wsl.localhost\\Ubuntu-20.04\\home\\hebb\\ml\\datasets\\RHD_hand\\RHD_v1-1\\negative_samples\\label.jpg'\n",
    "\n",
    "for p in glob(f'{base_path}\\*'):\n",
    "    imgs.append(p)\n",
    "    # masks.append(mask)\n",
    "\n",
    "df = pd.DataFrame()\n",
    "df['img'] = imgs\n",
    "# df['mask'] = masks\n",
    "df.to_csv('lut_target_domain.csv') #lut_masks_negative.csv"
   ]
  },
  {
   "cell_type": "code",
   "execution_count": 35,
   "metadata": {},
   "outputs": [],
   "source": [
    "# 실내 배경을 hand 에 대한 negative 샘플로 포함함\n",
    "\n",
    "base_path = r'\\\\wsl.localhost\\Ubuntu-20.04\\home\\hebb\\ml\\datasets\\House_Room_Dataset\\Livingroom'\n",
    "\n",
    "imgs = list()\n",
    "masks = list()\n",
    "\n",
    "# single frame for negative label\n",
    "mask = r'\\\\wsl.localhost\\Ubuntu-20.04\\home\\hebb\\ml\\datasets\\RHD_hand\\RHD_v1-1\\negative_samples\\label.jpg'\n",
    "\n",
    "for p in glob(f'{base_path}\\*'):\n",
    "    imgs.append(p)\n",
    "    masks.append(mask)\n",
    "\n",
    "df = pd.DataFrame()\n",
    "df['img'] = imgs\n",
    "df['mask'] = masks\n",
    "df.to_csv('lut_masks_negative_2.csv')"
   ]
  },
  {
   "cell_type": "code",
   "execution_count": 37,
   "metadata": {},
   "outputs": [],
   "source": [
    "Image.fromarray(np.zeros(shape=(640, 640)).astype(np.uint8)).save('label.jpg')"
   ]
  },
  {
   "cell_type": "code",
   "execution_count": 12,
   "metadata": {},
   "outputs": [],
   "source": [
    "df['imgs'] = [1, 2]\n",
    "df['masks'] = [1, 2]\n",
    "df"
   ]
  },
  {
   "cell_type": "code",
   "execution_count": 15,
   "metadata": {},
   "outputs": [],
   "source": [
    "df2 = df.copy()"
   ]
  }
 ],
 "metadata": {
  "kernelspec": {
   "display_name": "Python 3.8.13 ('ml')",
   "language": "python",
   "name": "python3"
  },
  "language_info": {
   "codemirror_mode": {
    "name": "ipython",
    "version": 3
   },
   "file_extension": ".py",
   "mimetype": "text/x-python",
   "name": "python",
   "nbconvert_exporter": "python",
   "pygments_lexer": "ipython3",
   "version": "3.8.13 (default, Mar 28 2022, 06:59:08) [MSC v.1916 64 bit (AMD64)]"
  },
  "orig_nbformat": 4,
  "vscode": {
   "interpreter": {
    "hash": "709cd8751d95dd4963018abf8a09bfd0af4b5f2a80d996782d6e3e302b255021"
   }
  }
 },
 "nbformat": 4,
 "nbformat_minor": 2
}
