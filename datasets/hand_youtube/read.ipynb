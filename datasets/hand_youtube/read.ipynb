{
 "cells": [
  {
   "cell_type": "code",
   "execution_count": null,
   "metadata": {},
   "outputs": [],
   "source": [
    "import cv2\n",
    "import pafy\n",
    "from PIL import Image\n",
    "import os\n",
    "import multiprocessing as mp"
   ]
  },
  {
   "cell_type": "code",
   "execution_count": 3,
   "metadata": {},
   "outputs": [
    {
     "name": "stdout",
     "output_type": "stream",
     "text": [
      "title =  기초 수어(수화)단어 1과\n",
      "best.resolution 1280x720\n"
     ]
    },
    {
     "ename": "KeyboardInterrupt",
     "evalue": "",
     "output_type": "error",
     "traceback": [
      "\u001b[1;31m---------------------------------------------------------------------------\u001b[0m",
      "\u001b[1;31mKeyboardInterrupt\u001b[0m                         Traceback (most recent call last)",
      "\u001b[1;32mUbuntu-20.04\\home\\hebb\\ml\\datasets\\hand_lang\\read.ipynb Cell 3\u001b[0m in \u001b[0;36m<cell line: 9>\u001b[1;34m()\u001b[0m\n\u001b[0;32m      <a href='vscode-notebook-cell://wsl.localhost/Ubuntu-20.04/home/hebb/ml/datasets/hand_lang/read.ipynb#W2sZmlsZQ%3D%3D?line=7'>8</a>\u001b[0m \u001b[39mwhile\u001b[39;00m(\u001b[39mTrue\u001b[39;00m):\n\u001b[0;32m      <a href='vscode-notebook-cell://wsl.localhost/Ubuntu-20.04/home/hebb/ml/datasets/hand_lang/read.ipynb#W2sZmlsZQ%3D%3D?line=8'>9</a>\u001b[0m     f_id \u001b[39m+\u001b[39m\u001b[39m=\u001b[39m \u001b[39m1\u001b[39m\n\u001b[1;32m---> <a href='vscode-notebook-cell://wsl.localhost/Ubuntu-20.04/home/hebb/ml/datasets/hand_lang/read.ipynb#W2sZmlsZQ%3D%3D?line=9'>10</a>\u001b[0m     ret, frame \u001b[39m=\u001b[39m cap\u001b[39m.\u001b[39;49mread()\n\u001b[0;32m     <a href='vscode-notebook-cell://wsl.localhost/Ubuntu-20.04/home/hebb/ml/datasets/hand_lang/read.ipynb#W2sZmlsZQ%3D%3D?line=11'>12</a>\u001b[0m     \u001b[39mif\u001b[39;00m frame \u001b[39mis\u001b[39;00m \u001b[39mnot\u001b[39;00m \u001b[39mNone\u001b[39;00m:\n\u001b[0;32m     <a href='vscode-notebook-cell://wsl.localhost/Ubuntu-20.04/home/hebb/ml/datasets/hand_lang/read.ipynb#W2sZmlsZQ%3D%3D?line=12'>13</a>\u001b[0m         \u001b[39m# cv2.imshow('frame', frame)\u001b[39;00m\n\u001b[0;32m     <a href='vscode-notebook-cell://wsl.localhost/Ubuntu-20.04/home/hebb/ml/datasets/hand_lang/read.ipynb#W2sZmlsZQ%3D%3D?line=13'>14</a>\u001b[0m         \u001b[39mif\u001b[39;00m f_id \u001b[39m%\u001b[39m \u001b[39m10\u001b[39m \u001b[39m==\u001b[39m \u001b[39m0\u001b[39m:\n",
      "\u001b[1;31mKeyboardInterrupt\u001b[0m: "
     ]
    }
   ],
   "source": [
    "save_path = r'\\\\wsl.localhost\\Ubuntu-20.04\\home\\hebb\\ml\\datasets\\hand_lang\\images'\n",
    "print('title = ', video.title)\n",
    "best = video.getbest(preftype='mp4')\n",
    "print('best.resolution', best.resolution)\n",
    "cap = cv2.VideoCapture(best.url)\n",
    "\n",
    "f_id = 0\n",
    "while(True):\n",
    "    f_id += 1\n",
    "    ret, frame = cap.read()\n",
    "\n",
    "    if frame is not None:\n",
    "        # cv2.imshow('frame', frame)\n",
    "        if f_id % 10 == 0:\n",
    "            image = Image.fromarray(frame[..., ::-1])\n",
    "            image.save(os.path.join(save_path, f'{f_id}.jpg'))\n",
    "        if cv2.waitKey(22) & 0xFF == ord('q'):\n",
    "            break\n",
    "    else:\n",
    "        break\n",
    "\n",
    "# When everything done, release the capture\n",
    "cap.release()\n",
    "cv2.destroyAllWindows()\n"
   ]
  },
  {
   "cell_type": "code",
   "execution_count": null,
   "metadata": {},
   "outputs": [],
   "source": [
    "def process(video_ids):\n",
    "\n",
    "    for i, v_id in video_ids:\n",
    "        video = pafy.new(v_id)\n",
    "        best = video.getbest(preftype='mp4')\n",
    "        cap = cv2.VideoCapture(best.url)\n",
    "\n",
    "        f_id = 0\n",
    "        while(True):\n",
    "            f_id += 1\n",
    "            ret, frame = cap.read()\n",
    "\n",
    "            if frame is not None:\n",
    "                if f_id % 10 == 0:\n",
    "                    image = Image.fromarray(frame[..., ::-1])\n",
    "                    image.save(os.path.join(save_path, f'{i}_{f_id}.jpg'))\n",
    "                if cv2.waitKey(22) & 0xFF == ord('q'):\n",
    "                    break\n",
    "            else:\n",
    "                break\n",
    "\n",
    "        cap.release()\n",
    "        cv2.destroyAllWindows()\n"
   ]
  },
  {
   "cell_type": "code",
   "execution_count": 1,
   "metadata": {},
   "outputs": [],
   "source": [
    "video_ids = list()\n",
    "with open(r'\\\\wsl.localhost\\Ubuntu-20.04\\home\\hebb\\ml\\datasets\\hand_lang\\video_lists.txt') as f:\n",
    "    data = f.read()\n",
    "video_ids = {i:vid for i, vid in enumerate(data.split('\\n'))}\n"
   ]
  },
  {
   "cell_type": "code",
   "execution_count": 14,
   "metadata": {},
   "outputs": [
    {
     "data": {
      "text/plain": [
       "['https://www.youtube.com/watch?v=xHqaMgjK9aQ&t=43s',\n",
       " 'https://www.youtube.com/watch?v=jPkgmuWmjig&t=194s']"
      ]
     },
     "execution_count": 14,
     "metadata": {},
     "output_type": "execute_result"
    }
   ],
   "source": [
    "if __name__ == '__main__':\n",
    "    p = mp.Pool(6)\n",
    "    p.map(process, video_ids.items())\n"
   ]
  },
  {
   "cell_type": "code",
   "execution_count": 15,
   "metadata": {},
   "outputs": [],
   "source": [
    "import time, os\n",
    "from multiprocessing import Pool\n",
    "\n",
    "def work_func(x):\n",
    "    print(\"value %s is in PID : %s\" % (x, os.getpid()))\n",
    "    time.sleep(1)\n",
    "    return x**5\n",
    "\n",
    "def main():\n",
    "    start = int(time.time())\n",
    "    num_cores = 4\n",
    "    pool = Pool(num_cores)\n",
    "    print(pool.map(work_func, range(1,13)))\n",
    "    print(\"***run time(sec) :\", int(time.time()) - start)\n",
    "\n",
    "if __name__ == \"__main__\":\n",
    "    main()"
   ]
  }
 ],
 "metadata": {
  "kernelspec": {
   "display_name": "Python 3.8.13 ('ml')",
   "language": "python",
   "name": "python3"
  },
  "language_info": {
   "codemirror_mode": {
    "name": "ipython",
    "version": 3
   },
   "file_extension": ".py",
   "mimetype": "text/x-python",
   "name": "python",
   "nbconvert_exporter": "python",
   "pygments_lexer": "ipython3",
   "version": "3.8.13"
  },
  "orig_nbformat": 4,
  "vscode": {
   "interpreter": {
    "hash": "709cd8751d95dd4963018abf8a09bfd0af4b5f2a80d996782d6e3e302b255021"
   }
  }
 },
 "nbformat": 4,
 "nbformat_minor": 2
}
