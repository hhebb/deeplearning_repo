{
 "cells": [
  {
   "cell_type": "markdown",
   "metadata": {},
   "source": [
    "## auto labeling\n",
    "1. 데이터 수집\n",
    "2. 소량 수동 라벨링 - 라벨링 툴\n",
    "3. 소량 학습\n",
    "4. 나머지 추론 후 라벨링 툴 포맷으로 저장\n",
    "5. 일정 수량 라벨링 결과 refine\n",
    "6. 학습 데이터에 추가한 후 학습. 3 번으로\n",
    "\n",
    "* 디렉토리\n",
    "    * 원본 이미지 디렉토리\n",
    "        * jpg + json (라벨링 툴에 의해 자동생성)\n",
    "    * 라벨링 완료 디렉토리\n",
    "        * 원본 디렉토리에서 확정된 json 만 복사\n",
    "    * 오토 라벨링 결과 디렉토리\n",
    "        * 라벨링 툴에서 확인이 가능하게 원본 디렉토리와 같은 형태\n",
    "        * 추론 결과 ndarray 를 json 으로 변형해야함"
   ]
  },
  {
   "cell_type": "code",
   "execution_count": 1,
   "metadata": {},
   "outputs": [],
   "source": [
    "# train code\n",
    "# using partial datas"
   ]
  },
  {
   "cell_type": "code",
   "execution_count": 2,
   "metadata": {},
   "outputs": [],
   "source": [
    "# inference code\n",
    "# for labeling format"
   ]
  },
  {
   "cell_type": "code",
   "execution_count": 1,
   "metadata": {},
   "outputs": [],
   "source": [
    "import json\n",
    "from glob import glob\n",
    "import os\n",
    "from PIL import Image, ImageDraw\n",
    "import cv2\n",
    "import numpy as np\n",
    "import base64\n",
    "import pandas as pd"
   ]
  },
  {
   "cell_type": "code",
   "execution_count": 420,
   "metadata": {},
   "outputs": [
    {
     "name": "stdout",
     "output_type": "stream",
     "text": [
      "19658 2\n"
     ]
    }
   ],
   "source": [
    "image_path = r\"\\\\wsl.localhost\\Ubuntu-20.04\\home\\hebb\\ml\\datasets\\hand_youtube\\images\\0_970.jpg\"\n",
    "label_path = r\"\\\\wsl.localhost\\Ubuntu-20.04\\home\\hebb\\ml\\datasets\\hand_youtube\\images\\0_970.json\"\n",
    "\n",
    "image_base_path = r\"\\\\wsl.localhost\\Ubuntu-20.04\\home\\hebb\\ml\\datasets\\hand_youtube\\images\"\n",
    "label_base_path = r\"\\\\wsl.localhost\\Ubuntu-20.04\\home\\hebb\\ml\\datasets\\hand_youtube\\images\"\n",
    "image_total_pathes = glob(f'{image_base_path}\\*.jpg')\n",
    "label_total_pathes = glob(f'{label_base_path}\\*.json')\n",
    "\n",
    "print(len(image_total_pathes), len(label_total_pathes))"
   ]
  },
  {
   "cell_type": "markdown",
   "metadata": {},
   "source": [
    "## lut 저장하기"
   ]
  },
  {
   "cell_type": "code",
   "execution_count": 5,
   "metadata": {},
   "outputs": [],
   "source": [
    "import pandas as pd\n",
    "from glob import glob\n",
    "\n",
    "label_base_path = r\"\\\\wsl.localhost\\Ubuntu-20.04\\home\\hebb\\ml\\datasets\\hand_youtube\\images\"\n",
    "label_total_pathes = glob(f'{label_base_path}\\*.json')\n",
    "\n",
    "df = pd.DataFrame()\n",
    "df['label'] = label_total_pathes\n",
    "df['image'] = [p.replace('.json', '.jpg') for p in label_total_pathes]\n",
    "\n",
    "df.to_csv('lut.csv')"
   ]
  },
  {
   "attachments": {},
   "cell_type": "markdown",
   "metadata": {},
   "source": [
    "## 검수한 데이터 원본 디렉토리로 이동"
   ]
  },
  {
   "cell_type": "code",
   "execution_count": 42,
   "metadata": {},
   "outputs": [],
   "source": [
    "# pred 디렉토리에 있는 데이터 중 실제로 옮길 인덱스만 추리기\n",
    "# 원본 디렉토리로 복사\n",
    "\n",
    "import pandas as pd\n",
    "from glob import glob\n",
    "\n",
    "# auto labeled datas\n",
    "pathes = glob(r'\\\\wsl.localhost\\Ubuntu-20.04\\home\\hebb\\ml\\datasets\\hand_youtube\\predicted_labels\\*')\n",
    "pathes = [p for p in pathes if 'jpg' in p]\n",
    "# clean datas\n",
    "df = pd.read_csv('lut.csv')\n",
    "# df['image']"
   ]
  },
  {
   "cell_type": "code",
   "execution_count": 43,
   "metadata": {},
   "outputs": [],
   "source": [
    "clean = df['image']\n",
    "pred = pd.Series(pathes)"
   ]
  },
  {
   "cell_type": "code",
   "execution_count": 44,
   "metadata": {},
   "outputs": [],
   "source": [
    "# pred[pred.isin(clean)]\n",
    "\n",
    "pred = set(pred)\n",
    "clean = set(clean)"
   ]
  },
  {
   "cell_type": "code",
   "execution_count": 45,
   "metadata": {},
   "outputs": [
    {
     "name": "stdout",
     "output_type": "stream",
     "text": [
      "348 104 0\n"
     ]
    }
   ],
   "source": [
    "print(len(pred), len(clean), len(clean.intersection(pred)))"
   ]
  },
  {
   "cell_type": "code",
   "execution_count": 47,
   "metadata": {},
   "outputs": [
    {
     "data": {
      "text/plain": [
       "set()"
      ]
     },
     "execution_count": 47,
     "metadata": {},
     "output_type": "execute_result"
    }
   ],
   "source": [
    "inter = clean.intersection(pred)\n",
    "list(inter)\n",
    "save_path = r'\\\\wsl.localhost\\Ubuntu-20.04\\home\\hebb\\ml\\datasets\\hand_youtube\\images'\n",
    "\n",
    "for item in inter:\n",
    "    shutil.copy(item.replace('.jpg', '.json'), save_path)\n"
   ]
  }
 ],
 "metadata": {
  "kernelspec": {
   "display_name": "Python 3.8.13 ('ml')",
   "language": "python",
   "name": "python3"
  },
  "language_info": {
   "codemirror_mode": {
    "name": "ipython",
    "version": 3
   },
   "file_extension": ".py",
   "mimetype": "text/x-python",
   "name": "python",
   "nbconvert_exporter": "python",
   "pygments_lexer": "ipython3",
   "version": "3.8.13"
  },
  "orig_nbformat": 4,
  "vscode": {
   "interpreter": {
    "hash": "709cd8751d95dd4963018abf8a09bfd0af4b5f2a80d996782d6e3e302b255021"
   }
  }
 },
 "nbformat": 4,
 "nbformat_minor": 2
}
