{
 "cells": [
  {
   "cell_type": "markdown",
   "metadata": {},
   "source": [
    "## hand data synthesis\n",
    "* 문제 정의\n",
    "    * 웹캠에서 찍히는 구도에서 손을 segmentation 하는 문제로 좁힘\n",
    "* 데이터 합성\n",
    "    * 라벨있는 hand 데이터 (frei hand 등) + 다양한 백그라운드 및 얼굴 데이터 합성"
   ]
  },
  {
   "cell_type": "code",
   "execution_count": 1,
   "metadata": {},
   "outputs": [],
   "source": [
    "from PIL import Image, ImageDraw\n",
    "import numpy as np\n",
    "from glob import glob\n",
    "import os\n",
    "import pandas as pd"
   ]
  },
  {
   "cell_type": "code",
   "execution_count": 2,
   "metadata": {},
   "outputs": [],
   "source": [
    "def synthesis(bg_image, face_rgb_image, face_mask_image, hand_rgb_images, hand_mask_images):\n",
    "    # load hand image\n",
    "    rgb_images = list()\n",
    "    mask_images = list()\n",
    "    extracted_images = list()\n",
    "    for hand_rgb_image, hand_mask_image in zip(hand_rgb_images, hand_mask_images):\n",
    "        hand_rgb_array = np.array(hand_rgb_image)\n",
    "        hand_mask_array = np.array(hand_mask_image)\n",
    "        hand_extracted_array = hand_rgb_array * (hand_mask_array > 127)\n",
    "        hand_extracted_image = Image.fromarray(hand_extracted_array)\n",
    "\n",
    "        rgb_images.append(hand_rgb_image)\n",
    "        mask_images.append(hand_mask_image)\n",
    "        extracted_images.append(hand_extracted_image)\n",
    "\n",
    "    face_rgb_array = np.array(face_rgb_image)\n",
    "    face_mask_array = np.array(face_mask_image)\n",
    "    face_extracted_array = face_rgb_array * (face_mask_array > 127)\n",
    "    face_extracted_image = Image.fromarray(face_extracted_array)\n",
    "\n",
    "    # hand transform\n",
    "    for rgb, mask, ext in zip(rgb_images, mask_images, extracted_images):\n",
    "        rotate = np.random.randint(-30, 30)\n",
    "        resize = np.random.randint(50, 150)\n",
    "        mask = mask.rotate(rotate).resize((resize, resize))\n",
    "        ext = ext.rotate(rotate).resize((resize, resize))\n",
    "\n",
    "    # face paste\n",
    "    rotate = np.random.randint(-20, 20)\n",
    "    resize = (np.random.randint(30, 50))\n",
    "    face_rgb_image.rotate(rotate).resize((resize, resize))\n",
    "    face_mask_image.rotate(rotate).resize((resize, resize))\n",
    "    translate = (np.random.randint(0, 100), np.random.randint(-50, 50))\n",
    "    bg_image.paste(face_extracted_image, translate, face_mask_image.convert('L'))\n",
    "    \n",
    "    # image, mask paste\n",
    "    hand_adj_mask_image = Image.new('L', size=(bg_image.size))\n",
    "    for ext, mask in zip(extracted_images, mask_images):\n",
    "        translate = (np.random.randint(-100, 100), np.random.randint(-100, 100))\n",
    "        bg_image.paste(ext, translate, mask.convert('L'))\n",
    "        hand_adj_mask_image.paste(mask, translate, mask.convert('L'))\n",
    "\n",
    "    # save img, mask\n",
    "    return bg_image, hand_adj_mask_image"
   ]
  },
  {
   "cell_type": "code",
   "execution_count": 3,
   "metadata": {},
   "outputs": [],
   "source": [
    "hand_base = r'\\\\wsl.localhost\\Ubuntu-20.04\\home\\hebb\\ml\\datasets\\frei_hand\\training\\rgb'\n",
    "hand_mask_base = r'\\\\wsl.localhost\\Ubuntu-20.04\\home\\hebb\\ml\\datasets\\frei_hand\\training\\mask'\n",
    "face_base = r'\\\\wsl.localhost\\Ubuntu-20.04\\home\\hebb\\ml\\datasets\\CelebAMask-HQ\\CelebA-HQ-img'\n",
    "face_mask_base = r'\\\\wsl.localhost\\Ubuntu-20.04\\home\\hebb\\ml\\datasets\\CelebAMask-HQ\\CelebAMask-HQ-mask-anno'\n",
    "bg_base = r'\\\\wsl.localhost\\Ubuntu-20.04\\home\\hebb\\ml\\datasets\\House_Room_Dataset\\Livingroom'\n",
    "save_path = r'\\\\wsl.localhost\\Ubuntu-20.04\\home\\hebb\\ml\\datasets\\synthesis_hand\\train'\n",
    "\n",
    "hand_list = glob(f'{hand_base}\\*')\n",
    "face_list = glob(f'{face_base}\\*')\n",
    "bg_list = glob(f'{bg_base}\\*')\n",
    "\n",
    "len_data = len(glob(r'\\\\wsl.localhost\\Ubuntu-20.04\\home\\hebb\\ml\\datasets\\synthesis_hand\\train\\*')) * 2\n",
    "\n",
    "for i in range(10000):\n",
    "    try:\n",
    "        # background\n",
    "        bg_rgb = bg_list[np.random.randint(len(bg_list))]\n",
    "        bg_image = Image.open(bg_rgb)\n",
    "\n",
    "        # face\n",
    "        face_rgb = face_list[np.random.randint(len(face_list))]\n",
    "        picked = ('0'*5 + (face_rgb.split('\\\\')[-1].split('.')[0]))[-5:]\n",
    "        direc = int((int(picked)+1) // 2000)\n",
    "        face_rgb_image = Image.open(face_rgb)\n",
    "        face_mask = face_rgb.replace('CelebA-HQ-img', f'CelebAMask-HQ-mask-anno\\\\{direc}')\n",
    "        face_id = face_mask.split('\\\\')[-1].split('.')[0]\n",
    "        face_id_fill = ('0'*5 + face_id)[-5:]\n",
    "        face_mask = face_mask.replace('.jpg', '').replace(f'{face_id}', f'{face_id_fill}')\n",
    "        face_mask_pathes = glob(f'{face_mask}*')\n",
    "        face_mask_image = Image.open(face_mask_pathes[0])\n",
    "        for m in face_mask_pathes[1:]:\n",
    "            face_mask_image.paste(Image.open(m), (0, 0), Image.open(m).convert('L'))\n",
    "        face_rgb_image = face_rgb_image.resize((128, 128))\n",
    "        face_mask_image = face_mask_image.resize((128, 128))\n",
    "\n",
    "        # hands\n",
    "        hand_rgb_images = list()\n",
    "        hand_mask_images = list()\n",
    "        n_hands = np.random.randint(3)\n",
    "        for h in range(n_hands):\n",
    "            hand_rgb = hand_list[np.random.randint(len(hand_list))]\n",
    "            hand_id = int(hand_rgb.split('\\\\')[-1].split('.')[0]) % 32560\n",
    "            hand_id = ('0'*8 + str(hand_id))[-8:]\n",
    "            hand_mask = os.path.join(hand_rgb.split('\\\\rgb')[0], 'mask', f'{hand_id}.jpg')\n",
    "            hand_rgb_images.append(Image.open(hand_rgb))\n",
    "            hand_mask_images.append(Image.open(hand_mask))\n",
    "\n",
    "        synth, mask = synthesis(bg_image, face_rgb_image, face_mask_image, hand_rgb_images, hand_mask_images)\n",
    "        synth.save(os.path.join(save_path, f'image_{i+len_data}.jpg'))\n",
    "        mask.save(os.path.join(save_path, f'mask_{i+len_data}.jpg'))\n",
    "    except:\n",
    "        pass"
   ]
  },
  {
   "cell_type": "code",
   "execution_count": null,
   "metadata": {},
   "outputs": [],
   "source": [
    "synth"
   ]
  },
  {
   "cell_type": "code",
   "execution_count": null,
   "metadata": {},
   "outputs": [],
   "source": [
    "mask"
   ]
  },
  {
   "cell_type": "code",
   "execution_count": 3,
   "metadata": {},
   "outputs": [],
   "source": [
    "# make lut\n",
    "save_path = r'\\\\wsl.localhost\\Ubuntu-20.04\\home\\hebb\\ml\\datasets\\synthesis_hand\\train'\n",
    "\n",
    "df = pd.DataFrame()\n",
    "total_datas = glob(f'{save_path}\\*')\n",
    "\n",
    "images = [d for d in total_datas if 'image' in d]\n",
    "masks = list() #[d for d in total_datas if 'mask' in d]\n",
    "\n",
    "for img in images:\n",
    "    mask = img.replace('image', 'mask')\n",
    "    masks.append(mask)\n",
    "\n",
    "df['image'] = images\n",
    "df['mask'] = masks\n",
    "\n",
    "df.to_csv(r'\\\\wsl.localhost\\Ubuntu-20.04\\home\\hebb\\ml\\datasets\\synthesis_hand\\lut.csv')"
   ]
  },
  {
   "cell_type": "code",
   "execution_count": 11,
   "metadata": {},
   "outputs": [],
   "source": [
    "import shutil\n",
    "shutil.rmtree(r'\\\\wsl.localhost\\Ubuntu-20.04\\home\\hebb\\ml\\datasets\\synthesis_hand\\train')"
   ]
  }
 ],
 "metadata": {
  "kernelspec": {
   "display_name": "Python 3.8.13 ('ml')",
   "language": "python",
   "name": "python3"
  },
  "language_info": {
   "codemirror_mode": {
    "name": "ipython",
    "version": 3
   },
   "file_extension": ".py",
   "mimetype": "text/x-python",
   "name": "python",
   "nbconvert_exporter": "python",
   "pygments_lexer": "ipython3",
   "version": "3.8.13 (default, Mar 28 2022, 06:59:08) [MSC v.1916 64 bit (AMD64)]"
  },
  "orig_nbformat": 4,
  "vscode": {
   "interpreter": {
    "hash": "709cd8751d95dd4963018abf8a09bfd0af4b5f2a80d996782d6e3e302b255021"
   }
  }
 },
 "nbformat": 4,
 "nbformat_minor": 2
}
