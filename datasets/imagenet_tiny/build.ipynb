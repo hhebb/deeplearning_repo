{
 "cells": [
  {
   "cell_type": "markdown",
   "id": "ebc8ca02",
   "metadata": {
    "papermill": {
     "duration": 0.007401,
     "end_time": "2022-08-16T16:47:42.458788",
     "exception": false,
     "start_time": "2022-08-16T16:47:42.451387",
     "status": "completed"
    },
    "tags": []
   },
   "source": [
    "[Deep Learning for Computer Vision](https://pyimagesearch.com/deep-learning-computer-vision-python-book/) Practitioner Bundle 책 내용 요약\n",
    "\n",
    "![cover](https://929687.smushcdn.com/2633864/wp-content/uploads/2020/02/deeplearning-200x300-1.jpg)"
   ]
  },
  {
   "cell_type": "markdown",
   "id": "3e1af56e",
   "metadata": {
    "papermill": {
     "duration": 0.005398,
     "end_time": "2022-08-16T16:47:42.470057",
     "exception": false,
     "start_time": "2022-08-16T16:47:42.464659",
     "status": "completed"
    },
    "tags": []
   },
   "source": [
    "## 11.3 The Tiny ImageNet Challenge\n",
    "- Stanford [cs231n 코스](http://cs231n.stanford.edu/2017/) 중 일부\n",
    "- CNN 처음부터 만들거나, fine-tuning. (feature extraction 은 허용 안 됨)\n",
    "- 64x64 이미지 500 개씩 200개 클래스\n",
    "- resize 및 crop 되어 있어서 a bit more challenging"
   ]
  },
  {
   "cell_type": "markdown",
   "id": "423a1e54",
   "metadata": {
    "papermill": {
     "duration": 0.005256,
     "end_time": "2022-08-16T16:47:42.480984",
     "exception": false,
     "start_time": "2022-08-16T16:47:42.475728",
     "status": "completed"
    },
    "tags": []
   },
   "source": [
    "## . 11.3.1 Downloading Tiny ImageNet\n",
    "- [Tiny ImageNet/ Kaggle](https://www.kaggle.com/datasets/akash2sharma/tiny-imagenet) 데이터셋 사용"
   ]
  },
  {
   "cell_type": "markdown",
   "id": "540d4a7c",
   "metadata": {
    "papermill": {
     "duration": 0.005385,
     "end_time": "2022-08-16T16:47:42.491903",
     "exception": false,
     "start_time": "2022-08-16T16:47:42.486518",
     "status": "completed"
    },
    "tags": []
   },
   "source": [
    "## . 11.3.2 The Tiny ImageNet Directory Structure\n",
    "- train 폴더 하위의 폴더명이 WordNet ID(\"synonym set\" or \"synsets\")\n",
    "- words.txt 파일에 WordNet ID 의 의미 있음\n",
    "- wnids.txt 파일에 200개 id\n",
    "- val 폴더에는 val_annotations.txt 파일에 파일이랑 WordNet ID 매핑 있음\n",
    "- general purpose programming skill 도 많이 필요함"
   ]
  },
  {
   "cell_type": "markdown",
   "id": "cb12e8a2",
   "metadata": {
    "papermill": {
     "duration": 0.0053,
     "end_time": "2022-08-16T16:47:42.502809",
     "exception": false,
     "start_time": "2022-08-16T16:47:42.497509",
     "status": "completed"
    },
    "tags": []
   },
   "source": [
    "## . 11.3.3 Building the Tiny ImageNet Dataset\n",
    "- `config/tiny_imagenet_config.py` : config 모아둠\n",
    "- `build_tiny_imagenet.py` 구현 : 파싱 잘 해서 HDF5 dataset으로 변환"
   ]
  },
  {
   "cell_type": "markdown",
   "id": "23aca0aa",
   "metadata": {
    "papermill": {
     "duration": 0.005286,
     "end_time": "2022-08-16T16:47:42.513713",
     "exception": false,
     "start_time": "2022-08-16T16:47:42.508427",
     "status": "completed"
    },
    "tags": []
   },
   "source": [
    "### Config"
   ]
  },
  {
   "cell_type": "code",
   "execution_count": 1,
   "id": "0cd153a9",
   "metadata": {
    "execution": {
     "iopub.execute_input": "2022-08-16T16:47:42.526927Z",
     "iopub.status.busy": "2022-08-16T16:47:42.526478Z",
     "iopub.status.idle": "2022-08-16T16:47:42.540575Z",
     "shell.execute_reply": "2022-08-16T16:47:42.539398Z"
    },
    "papermill": {
     "duration": 0.023833,
     "end_time": "2022-08-16T16:47:42.543046",
     "exception": false,
     "start_time": "2022-08-16T16:47:42.519213",
     "status": "completed"
    },
    "tags": []
   },
   "outputs": [],
   "source": [
    "from os import path\n",
    "\n",
    "# define the paths to the training and validation directories\n",
    "TRAIN_IMAGES = \"../input/tiny-imagenet/tiny-imagenet-200/train/\"\n",
    "VAL_IMAGES = \"../input/tiny-imagenet/tiny-imagenet-200/val/images\"\n",
    "\n",
    "# define the path to the file that maps validation filenames to their corresponding class labels\n",
    "VAL_MAPPINGS = \"../input/tiny-imagenet/tiny-imagenet-200/val/val_annotations.txt\"\n",
    "\n",
    "# define the paths to the WordNet hierarchy files which are used to generate our class labels\n",
    "WORDNET_IDS = \"../input/tiny-imagenet/tiny-imagenet-200/wnids.txt\"\n",
    "WORD_LABELS = \"../input/tiny-imagenet/tiny-imagenet-200/words.txt\"\n",
    "\n",
    "# since we do not have access to the testing data\n",
    "# we need to take a number of images from the training data and use it instead\n",
    "NUM_CLASSES = 200\n",
    "NUM_TEST_IMAGES = 50 * NUM_CLASSES\n",
    "\n",
    "# define the path to the output training, validation, and testing HDF5 files\n",
    "TRAIN_HDF5 = \"hdf5/train.hdf5\"\n",
    "VAL_HDF5 = \"hdf5/val.hdf5\"\n",
    "TEST_HDF5 = \"hdf5/test.hdf5\"\n",
    "\n",
    "# define the path to the dataset mean\n",
    "DATASET_MEAN = \"output/tiny-image-net-200-mean.json\"\n",
    "\n",
    "# define the path to the output directory used for storing plots, classification reports, etc.\n",
    "OUTPUT_PATH = \"output\"\n",
    "MODEL_PATH = path.sep.join([OUTPUT_PATH, \"checkpoints\", \"epoch_70.hdf5\"])\n",
    "FIG_PATH = path.sep.join([OUTPUT_PATH, \"deepergooglenet_tinyimagenet.png\"])\n",
    "JSON_PATH = path.sep.join([OUTPUT_PATH, \"deepergooglenet_tinyimagenet.json\"])"
   ]
  },
  {
   "cell_type": "code",
   "execution_count": 2,
   "id": "e359f199",
   "metadata": {
    "execution": {
     "iopub.execute_input": "2022-08-16T16:47:42.556649Z",
     "iopub.status.busy": "2022-08-16T16:47:42.556249Z",
     "iopub.status.idle": "2022-08-16T16:47:43.678127Z",
     "shell.execute_reply": "2022-08-16T16:47:43.676817Z"
    },
    "papermill": {
     "duration": 1.131945,
     "end_time": "2022-08-16T16:47:43.680914",
     "exception": false,
     "start_time": "2022-08-16T16:47:42.548969",
     "status": "completed"
    },
    "tags": []
   },
   "outputs": [],
   "source": [
    "!mkdir hdf5"
   ]
  },
  {
   "cell_type": "code",
   "execution_count": 3,
   "id": "d25f93c8",
   "metadata": {
    "execution": {
     "iopub.execute_input": "2022-08-16T16:47:43.695491Z",
     "iopub.status.busy": "2022-08-16T16:47:43.694243Z",
     "iopub.status.idle": "2022-08-16T16:47:44.836702Z",
     "shell.execute_reply": "2022-08-16T16:47:44.835229Z"
    },
    "papermill": {
     "duration": 1.152624,
     "end_time": "2022-08-16T16:47:44.839402",
     "exception": false,
     "start_time": "2022-08-16T16:47:43.686778",
     "status": "completed"
    },
    "tags": []
   },
   "outputs": [],
   "source": [
    "!mkdir output"
   ]
  },
  {
   "cell_type": "markdown",
   "id": "defa3457",
   "metadata": {
    "papermill": {
     "duration": 0.00592,
     "end_time": "2022-08-16T16:47:44.851365",
     "exception": false,
     "start_time": "2022-08-16T16:47:44.845445",
     "status": "completed"
    },
    "tags": []
   },
   "source": [
    "## Prepare other Classs"
   ]
  },
  {
   "cell_type": "markdown",
   "id": "fbcb594b",
   "metadata": {
    "papermill": {
     "duration": 0.005401,
     "end_time": "2022-08-16T16:47:44.862845",
     "exception": false,
     "start_time": "2022-08-16T16:47:44.857444",
     "status": "completed"
    },
    "tags": []
   },
   "source": [
    "- `HDF5DatasetWriter`: 데이터셋을 hdf5 로 저장하기 위한 h5py wrapper"
   ]
  },
  {
   "cell_type": "code",
   "execution_count": 4,
   "id": "f27836f2",
   "metadata": {
    "_kg_hide-input": true,
    "execution": {
     "iopub.execute_input": "2022-08-16T16:47:44.876579Z",
     "iopub.status.busy": "2022-08-16T16:47:44.876148Z",
     "iopub.status.idle": "2022-08-16T16:47:45.077436Z",
     "shell.execute_reply": "2022-08-16T16:47:45.076095Z"
    },
    "papermill": {
     "duration": 0.211804,
     "end_time": "2022-08-16T16:47:45.080325",
     "exception": false,
     "start_time": "2022-08-16T16:47:44.868521",
     "status": "completed"
    },
    "tags": []
   },
   "outputs": [],
   "source": [
    "import h5py\n",
    "import os\n",
    "\n",
    "\n",
    "class HDF5DatasetWriter:\n",
    "    def __init__(self, dims, output_path, data_key=\"images\", buf_size=1000):\n",
    "        # check to see if the output path exists, and if so, raise an exception\n",
    "        if os.path.exists(output_path):\n",
    "            raise ValueError(\"The supplied `outputPath` already exists and cannot be overwritten.\"\n",
    "                             \"Manually delete the file before continuing.\", output_path)\n",
    "\n",
    "        # open the HDF5 database for writing and create two datasets:\n",
    "        # one to store the images/features and another to store the class labels\n",
    "        self.db = h5py.File(output_path, \"w\")\n",
    "        self.data = self.db.create_dataset(data_key, dims, dtype=\"float\")\n",
    "        self.labels = self.db.create_dataset(\"labels\", (dims[0],), dtype=\"int\")\n",
    "\n",
    "        # store the buffer size, then initialize the buffer itself along with the index into the datasets\n",
    "        self.bufSize = buf_size\n",
    "        self.buffer = {\"data\": [], \"labels\": []}\n",
    "        self.idx = 0\n",
    "\n",
    "    def add(self, rows, labels):\n",
    "        # add the rows and labels to the buffer\n",
    "        self.buffer[\"data\"].extend(rows)\n",
    "        self.buffer[\"labels\"].extend(labels)\n",
    "\n",
    "        # check to see if the buffer needs to be flushed to disk\n",
    "        if len(self.buffer[\"data\"]) >= self.bufSize:\n",
    "            self.flush()\n",
    "\n",
    "    def flush(self):\n",
    "        # write the buffers to disk then reset the buffer\n",
    "        i = self.idx + len(self.buffer[\"data\"])\n",
    "        self.data[self.idx:i] = self.buffer[\"data\"]\n",
    "        self.labels[self.idx:i] = self.buffer[\"labels\"]\n",
    "        self.idx = i\n",
    "        self.buffer = {\"data\": [], \"labels\": []}\n",
    "\n",
    "    def store_class_labels(self, class_labels):\n",
    "        # create a dataset to store the actual class label names,\n",
    "        # then store the class labels\n",
    "        dt = h5py.special_dtype(vlen=str)  # `vlen=unicode` for Py2.7\n",
    "        label_set = self.db.create_dataset(\"label_names\", (len(class_labels),), dtype=dt)\n",
    "        label_set[:] = class_labels\n",
    "\n",
    "    def close(self):\n",
    "        # check to see if there are any other entries in the buffer\n",
    "        # that need to be flushed to disk\n",
    "        if len(self.buffer[\"data\"]) > 0:\n",
    "            self.flush()\n",
    "\n",
    "        # close the dataset\n",
    "        self.db.close()\n"
   ]
  },
  {
   "cell_type": "code",
   "execution_count": 5,
   "id": "0c880548",
   "metadata": {
    "_kg_hide-output": true,
    "execution": {
     "iopub.execute_input": "2022-08-16T16:47:45.094170Z",
     "iopub.status.busy": "2022-08-16T16:47:45.093223Z",
     "iopub.status.idle": "2022-08-16T16:48:00.662834Z",
     "shell.execute_reply": "2022-08-16T16:48:00.661276Z"
    },
    "papermill": {
     "duration": 15.579474,
     "end_time": "2022-08-16T16:48:00.665721",
     "exception": false,
     "start_time": "2022-08-16T16:47:45.086247",
     "status": "completed"
    },
    "tags": []
   },
   "outputs": [
    {
     "name": "stdout",
     "output_type": "stream",
     "text": [
      "Collecting imutils\r\n",
      "  Downloading imutils-0.5.4.tar.gz (17 kB)\r\n",
      "  Preparing metadata (setup.py) ... \u001b[?25l-\b \bdone\r\n",
      "\u001b[?25hBuilding wheels for collected packages: imutils\r\n",
      "  Building wheel for imutils (setup.py) ... \u001b[?25l-\b \b\\\b \bdone\r\n",
      "\u001b[?25h  Created wheel for imutils: filename=imutils-0.5.4-py3-none-any.whl size=25858 sha256=f069b3c39fc15bc2dabfdaba86093f7ec131630493a5d48505e7b908bf0a6997\r\n",
      "  Stored in directory: /root/.cache/pip/wheels/86/d7/0a/4923351ed1cec5d5e24c1eaf8905567b02a0343b24aa873df2\r\n",
      "Successfully built imutils\r\n",
      "Installing collected packages: imutils\r\n",
      "Successfully installed imutils-0.5.4\r\n",
      "\u001b[33mWARNING: Running pip as the 'root' user can result in broken permissions and conflicting behaviour with the system package manager. It is recommended to use a virtual environment instead: https://pip.pypa.io/warnings/venv\u001b[0m\u001b[33m\r\n",
      "\u001b[0m"
     ]
    }
   ],
   "source": [
    "!pip install imutils"
   ]
  },
  {
   "cell_type": "markdown",
   "id": "7e668801",
   "metadata": {
    "papermill": {
     "duration": 0.005998,
     "end_time": "2022-08-16T16:48:00.678906",
     "exception": false,
     "start_time": "2022-08-16T16:48:00.672908",
     "status": "completed"
    },
    "tags": []
   },
   "source": [
    "### Build Tiny ImageNet"
   ]
  },
  {
   "cell_type": "code",
   "execution_count": 6,
   "id": "406151bd",
   "metadata": {
    "execution": {
     "iopub.execute_input": "2022-08-16T16:48:00.693370Z",
     "iopub.status.busy": "2022-08-16T16:48:00.692920Z",
     "iopub.status.idle": "2022-08-16T16:48:01.986691Z",
     "shell.execute_reply": "2022-08-16T16:48:01.985209Z"
    },
    "papermill": {
     "duration": 1.304455,
     "end_time": "2022-08-16T16:48:01.989541",
     "exception": false,
     "start_time": "2022-08-16T16:48:00.685086",
     "status": "completed"
    },
    "tags": []
   },
   "outputs": [],
   "source": [
    "from sklearn.preprocessing import LabelEncoder\n",
    "from sklearn.model_selection import train_test_split\n",
    "from imutils import paths\n",
    "import numpy as np\n",
    "import json\n",
    "import cv2\n",
    "import os\n",
    "from tqdm.notebook import tqdm"
   ]
  },
  {
   "cell_type": "code",
   "execution_count": 7,
   "id": "048eb336",
   "metadata": {
    "execution": {
     "iopub.execute_input": "2022-08-16T16:48:02.004293Z",
     "iopub.status.busy": "2022-08-16T16:48:02.003862Z",
     "iopub.status.idle": "2022-08-16T16:48:23.979518Z",
     "shell.execute_reply": "2022-08-16T16:48:23.978227Z"
    },
    "papermill": {
     "duration": 21.985867,
     "end_time": "2022-08-16T16:48:23.981990",
     "exception": false,
     "start_time": "2022-08-16T16:48:01.996123",
     "status": "completed"
    },
    "tags": []
   },
   "outputs": [
    {
     "name": "stdout",
     "output_type": "stream",
     "text": [
      "['../input/tiny-imagenet/tiny-imagenet-200/train/n02437312/images/n02437312_229.JPEG', '../input/tiny-imagenet/tiny-imagenet-200/train/n02437312/images/n02437312_394.JPEG', '../input/tiny-imagenet/tiny-imagenet-200/train/n02437312/images/n02437312_15.JPEG']\n",
      "['n02437312', 'n02437312', 'n02437312']\n",
      "[53 53 53]\n",
      "CPU times: user 500 ms, sys: 538 ms, total: 1.04 s\n",
      "Wall time: 22 s\n"
     ]
    }
   ],
   "source": [
    "%%time\n",
    "\n",
    "# grab the paths to the training images, then extract the training class labels and encode them\n",
    "train_paths = list(paths.list_images(TRAIN_IMAGES))\n",
    "print(train_paths[:3])\n",
    "train_labels = [p.split(os.path.sep)[-3] for p in train_paths]\n",
    "print(train_labels[:3])\n",
    "le = LabelEncoder()\n",
    "train_labels = le.fit_transform(train_labels)\n",
    "print(train_labels[:3])"
   ]
  },
  {
   "cell_type": "code",
   "execution_count": 8,
   "id": "cf19a3b8",
   "metadata": {
    "execution": {
     "iopub.execute_input": "2022-08-16T16:48:23.996196Z",
     "iopub.status.busy": "2022-08-16T16:48:23.995837Z",
     "iopub.status.idle": "2022-08-16T16:48:24.062956Z",
     "shell.execute_reply": "2022-08-16T16:48:24.061491Z"
    },
    "papermill": {
     "duration": 0.077317,
     "end_time": "2022-08-16T16:48:24.065615",
     "exception": false,
     "start_time": "2022-08-16T16:48:23.988298",
     "status": "completed"
    },
    "tags": []
   },
   "outputs": [
    {
     "name": "stdout",
     "output_type": "stream",
     "text": [
      "90000 (90000,)\n",
      "10000 (10000,)\n"
     ]
    }
   ],
   "source": [
    "# perform stratified sampling from the training set to construct a testing set\n",
    "split = train_test_split(train_paths, train_labels, test_size=NUM_TEST_IMAGES,\n",
    "                         stratify=train_labels, random_state=42)\n",
    "(train_paths, test_paths, train_labels, test_labels) = split\n",
    "print(len(train_paths), train_labels.shape)\n",
    "print(len(test_paths), test_labels.shape)"
   ]
  },
  {
   "cell_type": "code",
   "execution_count": 9,
   "id": "7b4d5230",
   "metadata": {
    "execution": {
     "iopub.execute_input": "2022-08-16T16:48:24.080231Z",
     "iopub.status.busy": "2022-08-16T16:48:24.079861Z",
     "iopub.status.idle": "2022-08-16T16:48:24.125851Z",
     "shell.execute_reply": "2022-08-16T16:48:24.124758Z"
    },
    "papermill": {
     "duration": 0.056475,
     "end_time": "2022-08-16T16:48:24.128795",
     "exception": false,
     "start_time": "2022-08-16T16:48:24.072320",
     "status": "completed"
    },
    "tags": []
   },
   "outputs": [
    {
     "name": "stdout",
     "output_type": "stream",
     "text": [
      "['val_0.JPEG\\tn03444034\\t0\\t32\\t44\\t62', 'val_1.JPEG\\tn04067472\\t52\\t55\\t57\\t59', 'val_2.JPEG\\tn04070727\\t4\\t0\\t60\\t55']\n",
      "[['val_0.JPEG', 'n03444034'], ['val_1.JPEG', 'n04067472'], ['val_2.JPEG', 'n04070727']]\n",
      "['../input/tiny-imagenet/tiny-imagenet-200/val/images/val_0.JPEG', '../input/tiny-imagenet/tiny-imagenet-200/val/images/val_1.JPEG', '../input/tiny-imagenet/tiny-imagenet-200/val/images/val_2.JPEG']\n",
      "[107 139 140]\n"
     ]
    }
   ],
   "source": [
    "# load the validation filename => class from file and then\n",
    "# use these mappings to build the validation paths and label lists\n",
    "M = open(VAL_MAPPINGS).read().strip().split(\"\\n\")\n",
    "print(M[:3])\n",
    "M = [r.split(\"\\t\")[:2] for r in M]\n",
    "print(M[:3])\n",
    "val_paths = [os.path.sep.join([VAL_IMAGES, m[0]]) for m in M]\n",
    "print(val_paths[:3])\n",
    "val_labels = le.transform([m[1] for m in M])\n",
    "print(val_labels[:3])"
   ]
  },
  {
   "cell_type": "code",
   "execution_count": 10,
   "id": "61ff6dde",
   "metadata": {
    "execution": {
     "iopub.execute_input": "2022-08-16T16:48:24.143221Z",
     "iopub.status.busy": "2022-08-16T16:48:24.142836Z",
     "iopub.status.idle": "2022-08-16T16:48:24.148304Z",
     "shell.execute_reply": "2022-08-16T16:48:24.147202Z"
    },
    "papermill": {
     "duration": 0.015618,
     "end_time": "2022-08-16T16:48:24.150830",
     "exception": false,
     "start_time": "2022-08-16T16:48:24.135212",
     "status": "completed"
    },
    "tags": []
   },
   "outputs": [],
   "source": [
    "# construct a list pairing the training, validation, and testing image paths\n",
    "# along with their corresponding labels and output HDF5 files\n",
    "datasets = [\n",
    "    (\"train\", train_paths, train_labels, TRAIN_HDF5),\n",
    "    (\"val\", val_paths, val_labels, VAL_HDF5),\n",
    "    (\"test\", test_paths, test_labels, TEST_HDF5)\n",
    "]"
   ]
  },
  {
   "cell_type": "code",
   "execution_count": 11,
   "id": "2ebbafa1",
   "metadata": {
    "execution": {
     "iopub.execute_input": "2022-08-16T16:48:24.165874Z",
     "iopub.status.busy": "2022-08-16T16:48:24.165498Z",
     "iopub.status.idle": "2022-08-16T16:48:24.170466Z",
     "shell.execute_reply": "2022-08-16T16:48:24.169206Z"
    },
    "papermill": {
     "duration": 0.015268,
     "end_time": "2022-08-16T16:48:24.172739",
     "exception": false,
     "start_time": "2022-08-16T16:48:24.157471",
     "status": "completed"
    },
    "tags": []
   },
   "outputs": [],
   "source": [
    "# initialize the lists of RGB channel averages\n",
    "(R, G, B) = ([], [], [])"
   ]
  },
  {
   "cell_type": "code",
   "execution_count": 12,
   "id": "9c4a9bd3",
   "metadata": {
    "execution": {
     "iopub.execute_input": "2022-08-16T16:48:24.187447Z",
     "iopub.status.busy": "2022-08-16T16:48:24.187016Z",
     "iopub.status.idle": "2022-08-16T17:03:22.131897Z",
     "shell.execute_reply": "2022-08-16T17:03:22.130271Z"
    },
    "papermill": {
     "duration": 897.955705,
     "end_time": "2022-08-16T17:03:22.135028",
     "exception": false,
     "start_time": "2022-08-16T16:48:24.179323",
     "status": "completed"
    },
    "tags": []
   },
   "outputs": [
    {
     "name": "stdout",
     "output_type": "stream",
     "text": [
      "[INFO] building hdf5/train.hdf5...\n"
     ]
    },
    {
     "data": {
      "application/vnd.jupyter.widget-view+json": {
       "model_id": "d277d451b6c2466d8c74a89ce7360792",
       "version_major": 2,
       "version_minor": 0
      },
      "text/plain": [
       "  0%|          | 0/90000 [00:00<?, ?it/s]"
      ]
     },
     "metadata": {},
     "output_type": "display_data"
    },
    {
     "name": "stdout",
     "output_type": "stream",
     "text": [
      "[INFO] building hdf5/val.hdf5...\n"
     ]
    },
    {
     "data": {
      "application/vnd.jupyter.widget-view+json": {
       "model_id": "7121c04ca0db48c491a9b233f50c8899",
       "version_major": 2,
       "version_minor": 0
      },
      "text/plain": [
       "  0%|          | 0/10000 [00:00<?, ?it/s]"
      ]
     },
     "metadata": {},
     "output_type": "display_data"
    },
    {
     "name": "stdout",
     "output_type": "stream",
     "text": [
      "[INFO] building hdf5/test.hdf5...\n"
     ]
    },
    {
     "data": {
      "application/vnd.jupyter.widget-view+json": {
       "model_id": "8ac62672fc2944b79afb98fade277c8f",
       "version_major": 2,
       "version_minor": 0
      },
      "text/plain": [
       "  0%|          | 0/10000 [00:00<?, ?it/s]"
      ]
     },
     "metadata": {},
     "output_type": "display_data"
    }
   ],
   "source": [
    "# loop over the dataset tuples\n",
    "for (data_type, paths, labels, output_path) in datasets:\n",
    "    # create HDF5 writer\n",
    "    print(\"[INFO] building {}...\".format(output_path))\n",
    "    writer = HDF5DatasetWriter((len(paths), 64, 64, 3), output_path)\n",
    "\n",
    "    # loop over the image paths\n",
    "    for (i, (path, label)) in enumerate(zip(tqdm(paths), labels)):\n",
    "        # load the image from disk\n",
    "        image = cv2.imread(path)\n",
    "\n",
    "        # if we are building the training dataset, then compute the mean of each channel in the image,\n",
    "        # then update the respective lists\n",
    "        if data_type == \"train\":\n",
    "            (b, g, r) = cv2.mean(image)[:3]\n",
    "            R.append(r)\n",
    "            G.append(g)\n",
    "            B.append(b)\n",
    "\n",
    "        # add the image and label to the HDF5 dataset\n",
    "        writer.add([image], [label])\n",
    "\n",
    "    # close the HDF5 writer\n",
    "    writer.close()"
   ]
  },
  {
   "cell_type": "code",
   "execution_count": 13,
   "id": "966514b7",
   "metadata": {
    "execution": {
     "iopub.execute_input": "2022-08-16T17:03:22.152673Z",
     "iopub.status.busy": "2022-08-16T17:03:22.152202Z",
     "iopub.status.idle": "2022-08-16T17:03:22.190987Z",
     "shell.execute_reply": "2022-08-16T17:03:22.189650Z"
    },
    "papermill": {
     "duration": 0.051231,
     "end_time": "2022-08-16T17:03:22.193935",
     "exception": false,
     "start_time": "2022-08-16T17:03:22.142704",
     "status": "completed"
    },
    "tags": []
   },
   "outputs": [
    {
     "name": "stdout",
     "output_type": "stream",
     "text": [
      "[INFO] serializing means...\n"
     ]
    }
   ],
   "source": [
    "# construct a dictionary of averages, then serialize the means to a JSON file\n",
    "print(\"[INFO] serializing means...\")\n",
    "D = {\"R\": np.mean(R), \"G\": np.mean(G), \"B\": np.mean(B)}\n",
    "f = open(DATASET_MEAN, \"w\")\n",
    "f.write(json.dumps(D))\n",
    "f.close()"
   ]
  },
  {
   "cell_type": "code",
   "execution_count": 14,
   "id": "ab48606b",
   "metadata": {
    "execution": {
     "iopub.execute_input": "2022-08-16T17:03:22.210951Z",
     "iopub.status.busy": "2022-08-16T17:03:22.209994Z",
     "iopub.status.idle": "2022-08-16T17:03:23.345195Z",
     "shell.execute_reply": "2022-08-16T17:03:23.343596Z"
    },
    "papermill": {
     "duration": 1.146528,
     "end_time": "2022-08-16T17:03:23.348010",
     "exception": false,
     "start_time": "2022-08-16T17:03:22.201482",
     "status": "completed"
    },
    "tags": []
   },
   "outputs": [
    {
     "name": "stdout",
     "output_type": "stream",
     "text": [
      "total 10560896\r\n",
      "drwxr-xr-x 2 root root       4096 Aug 16 17:01 .\r\n",
      "drwxr-xr-x 4 root root       4096 Aug 16 16:47 ..\r\n",
      "-rw-r--r-- 1 root root  983122048 Aug 16 17:03 test.hdf5\r\n",
      "-rw-r--r-- 1 root root 8848082048 Aug 16 17:00 train.hdf5\r\n",
      "-rw-r--r-- 1 root root  983122048 Aug 16 17:01 val.hdf5\r\n"
     ]
    }
   ],
   "source": [
    "!ls -al hdf5"
   ]
  },
  {
   "cell_type": "code",
   "execution_count": 15,
   "id": "ee55be36",
   "metadata": {
    "execution": {
     "iopub.execute_input": "2022-08-16T17:03:23.365205Z",
     "iopub.status.busy": "2022-08-16T17:03:23.364794Z",
     "iopub.status.idle": "2022-08-16T17:03:24.497253Z",
     "shell.execute_reply": "2022-08-16T17:03:24.495967Z"
    },
    "papermill": {
     "duration": 1.144328,
     "end_time": "2022-08-16T17:03:24.499923",
     "exception": false,
     "start_time": "2022-08-16T17:03:23.355595",
     "status": "completed"
    },
    "tags": []
   },
   "outputs": [
    {
     "name": "stdout",
     "output_type": "stream",
     "text": [
      "total 12\r\n",
      "drwxr-xr-x 2 root root 4096 Aug 16 17:03 \u001b[0m\u001b[01;34m.\u001b[0m/\r\n",
      "drwxr-xr-x 4 root root 4096 Aug 16 16:47 \u001b[01;34m..\u001b[0m/\r\n",
      "-rw-r--r-- 1 root root   75 Aug 16 17:03 tiny-image-net-200-mean.json\r\n"
     ]
    }
   ],
   "source": [
    "ls -al output"
   ]
  },
  {
   "cell_type": "code",
   "execution_count": 16,
   "id": "f8d4b6ce",
   "metadata": {
    "execution": {
     "iopub.execute_input": "2022-08-16T17:03:24.517919Z",
     "iopub.status.busy": "2022-08-16T17:03:24.516727Z",
     "iopub.status.idle": "2022-08-16T17:03:24.528691Z",
     "shell.execute_reply": "2022-08-16T17:03:24.527761Z"
    },
    "papermill": {
     "duration": 0.023377,
     "end_time": "2022-08-16T17:03:24.531002",
     "exception": false,
     "start_time": "2022-08-16T17:03:24.507625",
     "status": "completed"
    },
    "tags": []
   },
   "outputs": [
    {
     "name": "stdout",
     "output_type": "stream",
     "text": [
      "(90000, 64, 64, 3)\n",
      "(10000, 64, 64, 3)\n",
      "(10000, 64, 64, 3)\n"
     ]
    }
   ],
   "source": [
    "import h5py\n",
    "\n",
    "for _, _, _, hdf5_path in datasets:\n",
    "    db = h5py.File(hdf5_path, 'r')\n",
    "    print(db['images'].shape)\n",
    "    db.close()\n"
   ]
  }
 ],
 "metadata": {
  "kernelspec": {
   "display_name": "Python 3.8.10 64-bit",
   "language": "python",
   "name": "python3"
  },
  "language_info": {
   "codemirror_mode": {
    "name": "ipython",
    "version": 3
   },
   "file_extension": ".py",
   "mimetype": "text/x-python",
   "name": "python",
   "nbconvert_exporter": "python",
   "pygments_lexer": "ipython3",
   "version": "3.8.10"
  },
  "papermill": {
   "default_parameters": {},
   "duration": 951.933472,
   "end_time": "2022-08-16T17:03:25.666760",
   "environment_variables": {},
   "exception": null,
   "input_path": "__notebook__.ipynb",
   "output_path": "__notebook__.ipynb",
   "parameters": {},
   "start_time": "2022-08-16T16:47:33.733288",
   "version": "2.3.4"
  },
  "vscode": {
   "interpreter": {
    "hash": "916dbcbb3f70747c44a77c7bcd40155683ae19c65e1c03b4aa3499c5328201f1"
   }
  },
  "widgets": {
   "application/vnd.jupyter.widget-state+json": {
    "state": {
     "13db96abd43e4ffd8c366d2858974183": {
      "model_module": "@jupyter-widgets/controls",
      "model_module_version": "1.5.0",
      "model_name": "ProgressStyleModel",
      "state": {
       "_model_module": "@jupyter-widgets/controls",
       "_model_module_version": "1.5.0",
       "_model_name": "ProgressStyleModel",
       "_view_count": null,
       "_view_module": "@jupyter-widgets/base",
       "_view_module_version": "1.2.0",
       "_view_name": "StyleView",
       "bar_color": null,
       "description_width": ""
      }
     },
     "1bebf877e9da4dddb48107aa2c0bd801": {
      "model_module": "@jupyter-widgets/controls",
      "model_module_version": "1.5.0",
      "model_name": "DescriptionStyleModel",
      "state": {
       "_model_module": "@jupyter-widgets/controls",
       "_model_module_version": "1.5.0",
       "_model_name": "DescriptionStyleModel",
       "_view_count": null,
       "_view_module": "@jupyter-widgets/base",
       "_view_module_version": "1.2.0",
       "_view_name": "StyleView",
       "description_width": ""
      }
     },
     "2bd3f47813704adfabae683860c5f940": {
      "model_module": "@jupyter-widgets/base",
      "model_module_version": "1.2.0",
      "model_name": "LayoutModel",
      "state": {
       "_model_module": "@jupyter-widgets/base",
       "_model_module_version": "1.2.0",
       "_model_name": "LayoutModel",
       "_view_count": null,
       "_view_module": "@jupyter-widgets/base",
       "_view_module_version": "1.2.0",
       "_view_name": "LayoutView",
       "align_content": null,
       "align_items": null,
       "align_self": null,
       "border": null,
       "bottom": null,
       "display": null,
       "flex": null,
       "flex_flow": null,
       "grid_area": null,
       "grid_auto_columns": null,
       "grid_auto_flow": null,
       "grid_auto_rows": null,
       "grid_column": null,
       "grid_gap": null,
       "grid_row": null,
       "grid_template_areas": null,
       "grid_template_columns": null,
       "grid_template_rows": null,
       "height": null,
       "justify_content": null,
       "justify_items": null,
       "left": null,
       "margin": null,
       "max_height": null,
       "max_width": null,
       "min_height": null,
       "min_width": null,
       "object_fit": null,
       "object_position": null,
       "order": null,
       "overflow": null,
       "overflow_x": null,
       "overflow_y": null,
       "padding": null,
       "right": null,
       "top": null,
       "visibility": null,
       "width": null
      }
     },
     "37d51af94fce44ffac0bfee054e29690": {
      "model_module": "@jupyter-widgets/base",
      "model_module_version": "1.2.0",
      "model_name": "LayoutModel",
      "state": {
       "_model_module": "@jupyter-widgets/base",
       "_model_module_version": "1.2.0",
       "_model_name": "LayoutModel",
       "_view_count": null,
       "_view_module": "@jupyter-widgets/base",
       "_view_module_version": "1.2.0",
       "_view_name": "LayoutView",
       "align_content": null,
       "align_items": null,
       "align_self": null,
       "border": null,
       "bottom": null,
       "display": null,
       "flex": null,
       "flex_flow": null,
       "grid_area": null,
       "grid_auto_columns": null,
       "grid_auto_flow": null,
       "grid_auto_rows": null,
       "grid_column": null,
       "grid_gap": null,
       "grid_row": null,
       "grid_template_areas": null,
       "grid_template_columns": null,
       "grid_template_rows": null,
       "height": null,
       "justify_content": null,
       "justify_items": null,
       "left": null,
       "margin": null,
       "max_height": null,
       "max_width": null,
       "min_height": null,
       "min_width": null,
       "object_fit": null,
       "object_position": null,
       "order": null,
       "overflow": null,
       "overflow_x": null,
       "overflow_y": null,
       "padding": null,
       "right": null,
       "top": null,
       "visibility": null,
       "width": null
      }
     },
     "3fa2066ab79f4ea59e0272b1acb1590f": {
      "model_module": "@jupyter-widgets/controls",
      "model_module_version": "1.5.0",
      "model_name": "HTMLModel",
      "state": {
       "_dom_classes": [],
       "_model_module": "@jupyter-widgets/controls",
       "_model_module_version": "1.5.0",
       "_model_name": "HTMLModel",
       "_view_count": null,
       "_view_module": "@jupyter-widgets/controls",
       "_view_module_version": "1.5.0",
       "_view_name": "HTMLView",
       "description": "",
       "description_tooltip": null,
       "layout": "IPY_MODEL_c176e974ce6a4d7482cf56d83891749b",
       "placeholder": "​",
       "style": "IPY_MODEL_432f70cd1dd34397ae18aa1fa4be33fd",
       "value": "100%"
      }
     },
     "41dec05f5d8743bab18ed20a37b70d67": {
      "model_module": "@jupyter-widgets/controls",
      "model_module_version": "1.5.0",
      "model_name": "DescriptionStyleModel",
      "state": {
       "_model_module": "@jupyter-widgets/controls",
       "_model_module_version": "1.5.0",
       "_model_name": "DescriptionStyleModel",
       "_view_count": null,
       "_view_module": "@jupyter-widgets/base",
       "_view_module_version": "1.2.0",
       "_view_name": "StyleView",
       "description_width": ""
      }
     },
     "432f70cd1dd34397ae18aa1fa4be33fd": {
      "model_module": "@jupyter-widgets/controls",
      "model_module_version": "1.5.0",
      "model_name": "DescriptionStyleModel",
      "state": {
       "_model_module": "@jupyter-widgets/controls",
       "_model_module_version": "1.5.0",
       "_model_name": "DescriptionStyleModel",
       "_view_count": null,
       "_view_module": "@jupyter-widgets/base",
       "_view_module_version": "1.2.0",
       "_view_name": "StyleView",
       "description_width": ""
      }
     },
     "539532a01896473db713c2eba1869aed": {
      "model_module": "@jupyter-widgets/base",
      "model_module_version": "1.2.0",
      "model_name": "LayoutModel",
      "state": {
       "_model_module": "@jupyter-widgets/base",
       "_model_module_version": "1.2.0",
       "_model_name": "LayoutModel",
       "_view_count": null,
       "_view_module": "@jupyter-widgets/base",
       "_view_module_version": "1.2.0",
       "_view_name": "LayoutView",
       "align_content": null,
       "align_items": null,
       "align_self": null,
       "border": null,
       "bottom": null,
       "display": null,
       "flex": null,
       "flex_flow": null,
       "grid_area": null,
       "grid_auto_columns": null,
       "grid_auto_flow": null,
       "grid_auto_rows": null,
       "grid_column": null,
       "grid_gap": null,
       "grid_row": null,
       "grid_template_areas": null,
       "grid_template_columns": null,
       "grid_template_rows": null,
       "height": null,
       "justify_content": null,
       "justify_items": null,
       "left": null,
       "margin": null,
       "max_height": null,
       "max_width": null,
       "min_height": null,
       "min_width": null,
       "object_fit": null,
       "object_position": null,
       "order": null,
       "overflow": null,
       "overflow_x": null,
       "overflow_y": null,
       "padding": null,
       "right": null,
       "top": null,
       "visibility": null,
       "width": null
      }
     },
     "550fe04893b347f1ac9285d28b788cde": {
      "model_module": "@jupyter-widgets/controls",
      "model_module_version": "1.5.0",
      "model_name": "DescriptionStyleModel",
      "state": {
       "_model_module": "@jupyter-widgets/controls",
       "_model_module_version": "1.5.0",
       "_model_name": "DescriptionStyleModel",
       "_view_count": null,
       "_view_module": "@jupyter-widgets/base",
       "_view_module_version": "1.2.0",
       "_view_name": "StyleView",
       "description_width": ""
      }
     },
     "586f3f24c4ff4339b2ab31ccb7a0edfb": {
      "model_module": "@jupyter-widgets/controls",
      "model_module_version": "1.5.0",
      "model_name": "HTMLModel",
      "state": {
       "_dom_classes": [],
       "_model_module": "@jupyter-widgets/controls",
       "_model_module_version": "1.5.0",
       "_model_name": "HTMLModel",
       "_view_count": null,
       "_view_module": "@jupyter-widgets/controls",
       "_view_module_version": "1.5.0",
       "_view_name": "HTMLView",
       "description": "",
       "description_tooltip": null,
       "layout": "IPY_MODEL_ee4db80ba57e4f91a93242b6a10bee4d",
       "placeholder": "​",
       "style": "IPY_MODEL_550fe04893b347f1ac9285d28b788cde",
       "value": "100%"
      }
     },
     "5b2978c834d84d4d9b168d4134cf5f9b": {
      "model_module": "@jupyter-widgets/base",
      "model_module_version": "1.2.0",
      "model_name": "LayoutModel",
      "state": {
       "_model_module": "@jupyter-widgets/base",
       "_model_module_version": "1.2.0",
       "_model_name": "LayoutModel",
       "_view_count": null,
       "_view_module": "@jupyter-widgets/base",
       "_view_module_version": "1.2.0",
       "_view_name": "LayoutView",
       "align_content": null,
       "align_items": null,
       "align_self": null,
       "border": null,
       "bottom": null,
       "display": null,
       "flex": null,
       "flex_flow": null,
       "grid_area": null,
       "grid_auto_columns": null,
       "grid_auto_flow": null,
       "grid_auto_rows": null,
       "grid_column": null,
       "grid_gap": null,
       "grid_row": null,
       "grid_template_areas": null,
       "grid_template_columns": null,
       "grid_template_rows": null,
       "height": null,
       "justify_content": null,
       "justify_items": null,
       "left": null,
       "margin": null,
       "max_height": null,
       "max_width": null,
       "min_height": null,
       "min_width": null,
       "object_fit": null,
       "object_position": null,
       "order": null,
       "overflow": null,
       "overflow_x": null,
       "overflow_y": null,
       "padding": null,
       "right": null,
       "top": null,
       "visibility": null,
       "width": null
      }
     },
     "7121c04ca0db48c491a9b233f50c8899": {
      "model_module": "@jupyter-widgets/controls",
      "model_module_version": "1.5.0",
      "model_name": "HBoxModel",
      "state": {
       "_dom_classes": [],
       "_model_module": "@jupyter-widgets/controls",
       "_model_module_version": "1.5.0",
       "_model_name": "HBoxModel",
       "_view_count": null,
       "_view_module": "@jupyter-widgets/controls",
       "_view_module_version": "1.5.0",
       "_view_name": "HBoxView",
       "box_style": "",
       "children": [
        "IPY_MODEL_586f3f24c4ff4339b2ab31ccb7a0edfb",
        "IPY_MODEL_97f066b37bdf42e5ba3894985b1de430",
        "IPY_MODEL_86e24fcf4acc4d6d9fd83217cd4a03a8"
       ],
       "layout": "IPY_MODEL_9157ac4d9b6b4437bcf6432318ec4202"
      }
     },
     "7f047b1ad9fb4f95af0d58cb8bebbade": {
      "model_module": "@jupyter-widgets/controls",
      "model_module_version": "1.5.0",
      "model_name": "HTMLModel",
      "state": {
       "_dom_classes": [],
       "_model_module": "@jupyter-widgets/controls",
       "_model_module_version": "1.5.0",
       "_model_name": "HTMLModel",
       "_view_count": null,
       "_view_module": "@jupyter-widgets/controls",
       "_view_module_version": "1.5.0",
       "_view_name": "HTMLView",
       "description": "",
       "description_tooltip": null,
       "layout": "IPY_MODEL_9cae4f2802254a2697c4c57541c97c69",
       "placeholder": "​",
       "style": "IPY_MODEL_41dec05f5d8743bab18ed20a37b70d67",
       "value": " 90000/90000 [11:55&lt;00:00, 115.48it/s]"
      }
     },
     "86e24fcf4acc4d6d9fd83217cd4a03a8": {
      "model_module": "@jupyter-widgets/controls",
      "model_module_version": "1.5.0",
      "model_name": "HTMLModel",
      "state": {
       "_dom_classes": [],
       "_model_module": "@jupyter-widgets/controls",
       "_model_module_version": "1.5.0",
       "_model_name": "HTMLModel",
       "_view_count": null,
       "_view_module": "@jupyter-widgets/controls",
       "_view_module_version": "1.5.0",
       "_view_name": "HTMLView",
       "description": "",
       "description_tooltip": null,
       "layout": "IPY_MODEL_37d51af94fce44ffac0bfee054e29690",
       "placeholder": "​",
       "style": "IPY_MODEL_d543a3799d454eefbfd4b42c5aa6c0bf",
       "value": " 10000/10000 [01:37&lt;00:00, 80.88it/s]"
      }
     },
     "8ac62672fc2944b79afb98fade277c8f": {
      "model_module": "@jupyter-widgets/controls",
      "model_module_version": "1.5.0",
      "model_name": "HBoxModel",
      "state": {
       "_dom_classes": [],
       "_model_module": "@jupyter-widgets/controls",
       "_model_module_version": "1.5.0",
       "_model_name": "HBoxModel",
       "_view_count": null,
       "_view_module": "@jupyter-widgets/controls",
       "_view_module_version": "1.5.0",
       "_view_name": "HBoxView",
       "box_style": "",
       "children": [
        "IPY_MODEL_9745f457e302480fbed97fe7d67c6830",
        "IPY_MODEL_dd2d91157a624048bdc249cfc773b90f",
        "IPY_MODEL_e7372fb7e12842d1b23982d2d5a8dd27"
       ],
       "layout": "IPY_MODEL_942f1606ce984880a1d8a8f3cf5db41c"
      }
     },
     "9157ac4d9b6b4437bcf6432318ec4202": {
      "model_module": "@jupyter-widgets/base",
      "model_module_version": "1.2.0",
      "model_name": "LayoutModel",
      "state": {
       "_model_module": "@jupyter-widgets/base",
       "_model_module_version": "1.2.0",
       "_model_name": "LayoutModel",
       "_view_count": null,
       "_view_module": "@jupyter-widgets/base",
       "_view_module_version": "1.2.0",
       "_view_name": "LayoutView",
       "align_content": null,
       "align_items": null,
       "align_self": null,
       "border": null,
       "bottom": null,
       "display": null,
       "flex": null,
       "flex_flow": null,
       "grid_area": null,
       "grid_auto_columns": null,
       "grid_auto_flow": null,
       "grid_auto_rows": null,
       "grid_column": null,
       "grid_gap": null,
       "grid_row": null,
       "grid_template_areas": null,
       "grid_template_columns": null,
       "grid_template_rows": null,
       "height": null,
       "justify_content": null,
       "justify_items": null,
       "left": null,
       "margin": null,
       "max_height": null,
       "max_width": null,
       "min_height": null,
       "min_width": null,
       "object_fit": null,
       "object_position": null,
       "order": null,
       "overflow": null,
       "overflow_x": null,
       "overflow_y": null,
       "padding": null,
       "right": null,
       "top": null,
       "visibility": null,
       "width": null
      }
     },
     "942f1606ce984880a1d8a8f3cf5db41c": {
      "model_module": "@jupyter-widgets/base",
      "model_module_version": "1.2.0",
      "model_name": "LayoutModel",
      "state": {
       "_model_module": "@jupyter-widgets/base",
       "_model_module_version": "1.2.0",
       "_model_name": "LayoutModel",
       "_view_count": null,
       "_view_module": "@jupyter-widgets/base",
       "_view_module_version": "1.2.0",
       "_view_name": "LayoutView",
       "align_content": null,
       "align_items": null,
       "align_self": null,
       "border": null,
       "bottom": null,
       "display": null,
       "flex": null,
       "flex_flow": null,
       "grid_area": null,
       "grid_auto_columns": null,
       "grid_auto_flow": null,
       "grid_auto_rows": null,
       "grid_column": null,
       "grid_gap": null,
       "grid_row": null,
       "grid_template_areas": null,
       "grid_template_columns": null,
       "grid_template_rows": null,
       "height": null,
       "justify_content": null,
       "justify_items": null,
       "left": null,
       "margin": null,
       "max_height": null,
       "max_width": null,
       "min_height": null,
       "min_width": null,
       "object_fit": null,
       "object_position": null,
       "order": null,
       "overflow": null,
       "overflow_x": null,
       "overflow_y": null,
       "padding": null,
       "right": null,
       "top": null,
       "visibility": null,
       "width": null
      }
     },
     "9745f457e302480fbed97fe7d67c6830": {
      "model_module": "@jupyter-widgets/controls",
      "model_module_version": "1.5.0",
      "model_name": "HTMLModel",
      "state": {
       "_dom_classes": [],
       "_model_module": "@jupyter-widgets/controls",
       "_model_module_version": "1.5.0",
       "_model_name": "HTMLModel",
       "_view_count": null,
       "_view_module": "@jupyter-widgets/controls",
       "_view_module_version": "1.5.0",
       "_view_name": "HTMLView",
       "description": "",
       "description_tooltip": null,
       "layout": "IPY_MODEL_539532a01896473db713c2eba1869aed",
       "placeholder": "​",
       "style": "IPY_MODEL_1bebf877e9da4dddb48107aa2c0bd801",
       "value": "100%"
      }
     },
     "97f066b37bdf42e5ba3894985b1de430": {
      "model_module": "@jupyter-widgets/controls",
      "model_module_version": "1.5.0",
      "model_name": "FloatProgressModel",
      "state": {
       "_dom_classes": [],
       "_model_module": "@jupyter-widgets/controls",
       "_model_module_version": "1.5.0",
       "_model_name": "FloatProgressModel",
       "_view_count": null,
       "_view_module": "@jupyter-widgets/controls",
       "_view_module_version": "1.5.0",
       "_view_name": "ProgressView",
       "bar_style": "success",
       "description": "",
       "description_tooltip": null,
       "layout": "IPY_MODEL_a78b1f8d4e2347278e2c3a1675706b7c",
       "max": 10000,
       "min": 0,
       "orientation": "horizontal",
       "style": "IPY_MODEL_e168dcb2e81048b0ab6ea5643df04d10",
       "value": 10000
      }
     },
     "99ca132e334c41c3b1e1948fb07472e4": {
      "model_module": "@jupyter-widgets/base",
      "model_module_version": "1.2.0",
      "model_name": "LayoutModel",
      "state": {
       "_model_module": "@jupyter-widgets/base",
       "_model_module_version": "1.2.0",
       "_model_name": "LayoutModel",
       "_view_count": null,
       "_view_module": "@jupyter-widgets/base",
       "_view_module_version": "1.2.0",
       "_view_name": "LayoutView",
       "align_content": null,
       "align_items": null,
       "align_self": null,
       "border": null,
       "bottom": null,
       "display": null,
       "flex": null,
       "flex_flow": null,
       "grid_area": null,
       "grid_auto_columns": null,
       "grid_auto_flow": null,
       "grid_auto_rows": null,
       "grid_column": null,
       "grid_gap": null,
       "grid_row": null,
       "grid_template_areas": null,
       "grid_template_columns": null,
       "grid_template_rows": null,
       "height": null,
       "justify_content": null,
       "justify_items": null,
       "left": null,
       "margin": null,
       "max_height": null,
       "max_width": null,
       "min_height": null,
       "min_width": null,
       "object_fit": null,
       "object_position": null,
       "order": null,
       "overflow": null,
       "overflow_x": null,
       "overflow_y": null,
       "padding": null,
       "right": null,
       "top": null,
       "visibility": null,
       "width": null
      }
     },
     "9cae4f2802254a2697c4c57541c97c69": {
      "model_module": "@jupyter-widgets/base",
      "model_module_version": "1.2.0",
      "model_name": "LayoutModel",
      "state": {
       "_model_module": "@jupyter-widgets/base",
       "_model_module_version": "1.2.0",
       "_model_name": "LayoutModel",
       "_view_count": null,
       "_view_module": "@jupyter-widgets/base",
       "_view_module_version": "1.2.0",
       "_view_name": "LayoutView",
       "align_content": null,
       "align_items": null,
       "align_self": null,
       "border": null,
       "bottom": null,
       "display": null,
       "flex": null,
       "flex_flow": null,
       "grid_area": null,
       "grid_auto_columns": null,
       "grid_auto_flow": null,
       "grid_auto_rows": null,
       "grid_column": null,
       "grid_gap": null,
       "grid_row": null,
       "grid_template_areas": null,
       "grid_template_columns": null,
       "grid_template_rows": null,
       "height": null,
       "justify_content": null,
       "justify_items": null,
       "left": null,
       "margin": null,
       "max_height": null,
       "max_width": null,
       "min_height": null,
       "min_width": null,
       "object_fit": null,
       "object_position": null,
       "order": null,
       "overflow": null,
       "overflow_x": null,
       "overflow_y": null,
       "padding": null,
       "right": null,
       "top": null,
       "visibility": null,
       "width": null
      }
     },
     "a78b1f8d4e2347278e2c3a1675706b7c": {
      "model_module": "@jupyter-widgets/base",
      "model_module_version": "1.2.0",
      "model_name": "LayoutModel",
      "state": {
       "_model_module": "@jupyter-widgets/base",
       "_model_module_version": "1.2.0",
       "_model_name": "LayoutModel",
       "_view_count": null,
       "_view_module": "@jupyter-widgets/base",
       "_view_module_version": "1.2.0",
       "_view_name": "LayoutView",
       "align_content": null,
       "align_items": null,
       "align_self": null,
       "border": null,
       "bottom": null,
       "display": null,
       "flex": null,
       "flex_flow": null,
       "grid_area": null,
       "grid_auto_columns": null,
       "grid_auto_flow": null,
       "grid_auto_rows": null,
       "grid_column": null,
       "grid_gap": null,
       "grid_row": null,
       "grid_template_areas": null,
       "grid_template_columns": null,
       "grid_template_rows": null,
       "height": null,
       "justify_content": null,
       "justify_items": null,
       "left": null,
       "margin": null,
       "max_height": null,
       "max_width": null,
       "min_height": null,
       "min_width": null,
       "object_fit": null,
       "object_position": null,
       "order": null,
       "overflow": null,
       "overflow_x": null,
       "overflow_y": null,
       "padding": null,
       "right": null,
       "top": null,
       "visibility": null,
       "width": null
      }
     },
     "abc1dd388402429daed71499c0796236": {
      "model_module": "@jupyter-widgets/controls",
      "model_module_version": "1.5.0",
      "model_name": "DescriptionStyleModel",
      "state": {
       "_model_module": "@jupyter-widgets/controls",
       "_model_module_version": "1.5.0",
       "_model_name": "DescriptionStyleModel",
       "_view_count": null,
       "_view_module": "@jupyter-widgets/base",
       "_view_module_version": "1.2.0",
       "_view_name": "StyleView",
       "description_width": ""
      }
     },
     "af0da0d57af346ae95497bcb8acb3c82": {
      "model_module": "@jupyter-widgets/controls",
      "model_module_version": "1.5.0",
      "model_name": "FloatProgressModel",
      "state": {
       "_dom_classes": [],
       "_model_module": "@jupyter-widgets/controls",
       "_model_module_version": "1.5.0",
       "_model_name": "FloatProgressModel",
       "_view_count": null,
       "_view_module": "@jupyter-widgets/controls",
       "_view_module_version": "1.5.0",
       "_view_name": "ProgressView",
       "bar_style": "success",
       "description": "",
       "description_tooltip": null,
       "layout": "IPY_MODEL_99ca132e334c41c3b1e1948fb07472e4",
       "max": 90000,
       "min": 0,
       "orientation": "horizontal",
       "style": "IPY_MODEL_13db96abd43e4ffd8c366d2858974183",
       "value": 90000
      }
     },
     "c176e974ce6a4d7482cf56d83891749b": {
      "model_module": "@jupyter-widgets/base",
      "model_module_version": "1.2.0",
      "model_name": "LayoutModel",
      "state": {
       "_model_module": "@jupyter-widgets/base",
       "_model_module_version": "1.2.0",
       "_model_name": "LayoutModel",
       "_view_count": null,
       "_view_module": "@jupyter-widgets/base",
       "_view_module_version": "1.2.0",
       "_view_name": "LayoutView",
       "align_content": null,
       "align_items": null,
       "align_self": null,
       "border": null,
       "bottom": null,
       "display": null,
       "flex": null,
       "flex_flow": null,
       "grid_area": null,
       "grid_auto_columns": null,
       "grid_auto_flow": null,
       "grid_auto_rows": null,
       "grid_column": null,
       "grid_gap": null,
       "grid_row": null,
       "grid_template_areas": null,
       "grid_template_columns": null,
       "grid_template_rows": null,
       "height": null,
       "justify_content": null,
       "justify_items": null,
       "left": null,
       "margin": null,
       "max_height": null,
       "max_width": null,
       "min_height": null,
       "min_width": null,
       "object_fit": null,
       "object_position": null,
       "order": null,
       "overflow": null,
       "overflow_x": null,
       "overflow_y": null,
       "padding": null,
       "right": null,
       "top": null,
       "visibility": null,
       "width": null
      }
     },
     "c7663435555646b2b846527c5e5debb2": {
      "model_module": "@jupyter-widgets/base",
      "model_module_version": "1.2.0",
      "model_name": "LayoutModel",
      "state": {
       "_model_module": "@jupyter-widgets/base",
       "_model_module_version": "1.2.0",
       "_model_name": "LayoutModel",
       "_view_count": null,
       "_view_module": "@jupyter-widgets/base",
       "_view_module_version": "1.2.0",
       "_view_name": "LayoutView",
       "align_content": null,
       "align_items": null,
       "align_self": null,
       "border": null,
       "bottom": null,
       "display": null,
       "flex": null,
       "flex_flow": null,
       "grid_area": null,
       "grid_auto_columns": null,
       "grid_auto_flow": null,
       "grid_auto_rows": null,
       "grid_column": null,
       "grid_gap": null,
       "grid_row": null,
       "grid_template_areas": null,
       "grid_template_columns": null,
       "grid_template_rows": null,
       "height": null,
       "justify_content": null,
       "justify_items": null,
       "left": null,
       "margin": null,
       "max_height": null,
       "max_width": null,
       "min_height": null,
       "min_width": null,
       "object_fit": null,
       "object_position": null,
       "order": null,
       "overflow": null,
       "overflow_x": null,
       "overflow_y": null,
       "padding": null,
       "right": null,
       "top": null,
       "visibility": null,
       "width": null
      }
     },
     "d277d451b6c2466d8c74a89ce7360792": {
      "model_module": "@jupyter-widgets/controls",
      "model_module_version": "1.5.0",
      "model_name": "HBoxModel",
      "state": {
       "_dom_classes": [],
       "_model_module": "@jupyter-widgets/controls",
       "_model_module_version": "1.5.0",
       "_model_name": "HBoxModel",
       "_view_count": null,
       "_view_module": "@jupyter-widgets/controls",
       "_view_module_version": "1.5.0",
       "_view_name": "HBoxView",
       "box_style": "",
       "children": [
        "IPY_MODEL_3fa2066ab79f4ea59e0272b1acb1590f",
        "IPY_MODEL_af0da0d57af346ae95497bcb8acb3c82",
        "IPY_MODEL_7f047b1ad9fb4f95af0d58cb8bebbade"
       ],
       "layout": "IPY_MODEL_2bd3f47813704adfabae683860c5f940"
      }
     },
     "d543a3799d454eefbfd4b42c5aa6c0bf": {
      "model_module": "@jupyter-widgets/controls",
      "model_module_version": "1.5.0",
      "model_name": "DescriptionStyleModel",
      "state": {
       "_model_module": "@jupyter-widgets/controls",
       "_model_module_version": "1.5.0",
       "_model_name": "DescriptionStyleModel",
       "_view_count": null,
       "_view_module": "@jupyter-widgets/base",
       "_view_module_version": "1.2.0",
       "_view_name": "StyleView",
       "description_width": ""
      }
     },
     "d629e3eb88444a7a941d7780efa7245e": {
      "model_module": "@jupyter-widgets/controls",
      "model_module_version": "1.5.0",
      "model_name": "ProgressStyleModel",
      "state": {
       "_model_module": "@jupyter-widgets/controls",
       "_model_module_version": "1.5.0",
       "_model_name": "ProgressStyleModel",
       "_view_count": null,
       "_view_module": "@jupyter-widgets/base",
       "_view_module_version": "1.2.0",
       "_view_name": "StyleView",
       "bar_color": null,
       "description_width": ""
      }
     },
     "dd2d91157a624048bdc249cfc773b90f": {
      "model_module": "@jupyter-widgets/controls",
      "model_module_version": "1.5.0",
      "model_name": "FloatProgressModel",
      "state": {
       "_dom_classes": [],
       "_model_module": "@jupyter-widgets/controls",
       "_model_module_version": "1.5.0",
       "_model_name": "FloatProgressModel",
       "_view_count": null,
       "_view_module": "@jupyter-widgets/controls",
       "_view_module_version": "1.5.0",
       "_view_name": "ProgressView",
       "bar_style": "success",
       "description": "",
       "description_tooltip": null,
       "layout": "IPY_MODEL_c7663435555646b2b846527c5e5debb2",
       "max": 10000,
       "min": 0,
       "orientation": "horizontal",
       "style": "IPY_MODEL_d629e3eb88444a7a941d7780efa7245e",
       "value": 10000
      }
     },
     "e168dcb2e81048b0ab6ea5643df04d10": {
      "model_module": "@jupyter-widgets/controls",
      "model_module_version": "1.5.0",
      "model_name": "ProgressStyleModel",
      "state": {
       "_model_module": "@jupyter-widgets/controls",
       "_model_module_version": "1.5.0",
       "_model_name": "ProgressStyleModel",
       "_view_count": null,
       "_view_module": "@jupyter-widgets/base",
       "_view_module_version": "1.2.0",
       "_view_name": "StyleView",
       "bar_color": null,
       "description_width": ""
      }
     },
     "e7372fb7e12842d1b23982d2d5a8dd27": {
      "model_module": "@jupyter-widgets/controls",
      "model_module_version": "1.5.0",
      "model_name": "HTMLModel",
      "state": {
       "_dom_classes": [],
       "_model_module": "@jupyter-widgets/controls",
       "_model_module_version": "1.5.0",
       "_model_name": "HTMLModel",
       "_view_count": null,
       "_view_module": "@jupyter-widgets/controls",
       "_view_module_version": "1.5.0",
       "_view_name": "HTMLView",
       "description": "",
       "description_tooltip": null,
       "layout": "IPY_MODEL_5b2978c834d84d4d9b168d4134cf5f9b",
       "placeholder": "​",
       "style": "IPY_MODEL_abc1dd388402429daed71499c0796236",
       "value": " 10000/10000 [01:24&lt;00:00, 138.76it/s]"
      }
     },
     "ee4db80ba57e4f91a93242b6a10bee4d": {
      "model_module": "@jupyter-widgets/base",
      "model_module_version": "1.2.0",
      "model_name": "LayoutModel",
      "state": {
       "_model_module": "@jupyter-widgets/base",
       "_model_module_version": "1.2.0",
       "_model_name": "LayoutModel",
       "_view_count": null,
       "_view_module": "@jupyter-widgets/base",
       "_view_module_version": "1.2.0",
       "_view_name": "LayoutView",
       "align_content": null,
       "align_items": null,
       "align_self": null,
       "border": null,
       "bottom": null,
       "display": null,
       "flex": null,
       "flex_flow": null,
       "grid_area": null,
       "grid_auto_columns": null,
       "grid_auto_flow": null,
       "grid_auto_rows": null,
       "grid_column": null,
       "grid_gap": null,
       "grid_row": null,
       "grid_template_areas": null,
       "grid_template_columns": null,
       "grid_template_rows": null,
       "height": null,
       "justify_content": null,
       "justify_items": null,
       "left": null,
       "margin": null,
       "max_height": null,
       "max_width": null,
       "min_height": null,
       "min_width": null,
       "object_fit": null,
       "object_position": null,
       "order": null,
       "overflow": null,
       "overflow_x": null,
       "overflow_y": null,
       "padding": null,
       "right": null,
       "top": null,
       "visibility": null,
       "width": null
      }
     }
    },
    "version_major": 2,
    "version_minor": 0
   }
  }
 },
 "nbformat": 4,
 "nbformat_minor": 5
}
