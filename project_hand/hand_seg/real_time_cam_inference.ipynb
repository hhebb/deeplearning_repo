{
 "cells": [
  {
   "cell_type": "code",
   "execution_count": 1,
   "metadata": {},
   "outputs": [
    {
     "name": "stderr",
     "output_type": "stream",
     "text": [
      "c:\\Users\\HEBB\\anaconda3\\envs\\ml\\lib\\site-packages\\tqdm\\auto.py:22: TqdmWarning: IProgress not found. Please update jupyter and ipywidgets. See https://ipywidgets.readthedocs.io/en/stable/user_install.html\n",
      "  from .autonotebook import tqdm as notebook_tqdm\n"
     ]
    }
   ],
   "source": [
    "import torch\n",
    "from torch import nn\n",
    "from torchvision.models.segmentation import fcn_resnet50, FCN_ResNet50_Weights\n",
    "import cv2\n",
    "import numpy as np\n",
    "from albumentations.pytorch.transforms import ToTensorV2\n",
    "import albumentations as A\n",
    "from models.unet import UNet\n",
    "from models.fcn import FCN_DANN, FCN\n"
   ]
  },
  {
   "cell_type": "code",
   "execution_count": 2,
   "metadata": {},
   "outputs": [],
   "source": [
    "class Model(nn.Module):\n",
    "    def __init__(self):\n",
    "        super().__init__()\n",
    "\n",
    "        weights = FCN_ResNet50_Weights.DEFAULT\n",
    "        self.model = fcn_resnet50(num_classes=21) # \n",
    "        self.conv = nn.Conv2d(21, 3, 1)\n",
    "\n",
    "    def forward(self, x):\n",
    "        x = self.model(x)['out']\n",
    "        x = self.conv(x)\n",
    "        x = torch.sigmoid(x)\n",
    "\n",
    "        return x"
   ]
  },
  {
   "cell_type": "code",
   "execution_count": 3,
   "metadata": {},
   "outputs": [
    {
     "data": {
      "text/plain": [
       "<All keys matched successfully>"
      ]
     },
     "execution_count": 3,
     "metadata": {},
     "output_type": "execute_result"
    }
   ],
   "source": [
    "# model = Model().cuda()\n",
    "model = FCN(classes=2).cuda()\n",
    "model.load_state_dict(torch.load('auto_label.pt'))"
   ]
  },
  {
   "cell_type": "code",
   "execution_count": 4,
   "metadata": {},
   "outputs": [],
   "source": [
    "transform_valid = A.Compose(\n",
    "    [\n",
    "        A.Normalize((0.485, 0.456, 0.406), (0.229, 0.224, 0.225)),\n",
    "        ToTensorV2(),\n",
    "    ]\n",
    ")"
   ]
  },
  {
   "cell_type": "code",
   "execution_count": 8,
   "metadata": {},
   "outputs": [
    {
     "name": "stderr",
     "output_type": "stream",
     "text": [
      "C:\\Users\\HEBB\\AppData\\Local\\Temp\\ipykernel_40868\\1678523784.py:23: UserWarning: To copy construct from a tensor, it is recommended to use sourceTensor.clone().detach() or sourceTensor.clone().detach().requires_grad_(True), rather than torch.tensor(sourceTensor).\n",
      "  frame = torch.tensor(frame).cuda()\n"
     ]
    }
   ],
   "source": [
    "# cap 이 정상적으로 open이 되었는지 확인하기 위해서 cap.isOpen() 으로 확인가능\n",
    "# cap = cv2.VideoCapture('test_video.avi')\n",
    "cap = cv2.VideoCapture(0)\n",
    "\n",
    "# 3은 width, 4는 height\n",
    "cap.set(3,640)\n",
    "cap.set(4,480)\n",
    "\n",
    "while(True):\n",
    "    # ret : frame capture결과(boolean)\n",
    "    # frame : Capture한 frame\n",
    "    ret, frame = cap.read()\n",
    "\n",
    "    if (ret):\n",
    "        with torch.no_grad():\n",
    "            frame_copy = frame.copy()\n",
    "            frame = frame[..., ::-1]\n",
    "            frame = transform_valid(image=frame)['image']\n",
    "            # frame = cv2.resize(frame, (640, 360))\n",
    "            # frame = cv2.normalize(frame, None, 0, 1, cv2. NORM_MINMAX)\n",
    "            # frame = np.expand_dims(np.transpose(frame, (2, 0, 1)), 0).astype(np.float32)\n",
    "            frame = torch.unsqueeze(frame, 0)\n",
    "            frame = torch.tensor(frame).cuda()\n",
    "            pred = model(frame)\n",
    "            \n",
    "            # cv2.rectangle()\n",
    "        pred = pred.detach().cpu().numpy()\n",
    "        pred = np.transpose((np.squeeze(pred) > .5) * 255, (1, 2, 0))\n",
    "        pred = pred.astype(np.uint8)\n",
    "        pred = pred[..., :-1]\n",
    "        # print(pred.dtype, pred.shape, frame_copy.dtype, frame_copy.shape)\n",
    "\n",
    "        cv2.imshow('pred', np.clip(np.sum(pred, axis=-1), 0, 255).astype(np.uint8))\n",
    "        cv2.imshow('frame', frame_copy)\n",
    "        if cv2.waitKey(1) & 0xFF == ord('q'):\n",
    "            break\n",
    "\n",
    "cap.release()\n",
    "cv2.destroyAllWindows()"
   ]
  },
  {
   "cell_type": "code",
   "execution_count": null,
   "metadata": {},
   "outputs": [
    {
     "data": {
      "text/plain": [
       "<list_iterator at 0x1abad516ac0>"
      ]
     },
     "execution_count": 15,
     "metadata": {},
     "output_type": "execute_result"
    }
   ],
   "source": [
    "gen = iter([1, 2, 3])\n",
    "gen"
   ]
  },
  {
   "cell_type": "code",
   "execution_count": null,
   "metadata": {},
   "outputs": [
    {
     "data": {
      "text/plain": [
       "2"
      ]
     },
     "execution_count": 18,
     "metadata": {},
     "output_type": "execute_result"
    }
   ],
   "source": [
    "gen.__next__()"
   ]
  }
 ],
 "metadata": {
  "kernelspec": {
   "display_name": "Python 3.8.13 ('ml')",
   "language": "python",
   "name": "python3"
  },
  "language_info": {
   "codemirror_mode": {
    "name": "ipython",
    "version": 3
   },
   "file_extension": ".py",
   "mimetype": "text/x-python",
   "name": "python",
   "nbconvert_exporter": "python",
   "pygments_lexer": "ipython3",
   "version": "3.8.13"
  },
  "orig_nbformat": 4,
  "vscode": {
   "interpreter": {
    "hash": "709cd8751d95dd4963018abf8a09bfd0af4b5f2a80d996782d6e3e302b255021"
   }
  }
 },
 "nbformat": 4,
 "nbformat_minor": 2
}
