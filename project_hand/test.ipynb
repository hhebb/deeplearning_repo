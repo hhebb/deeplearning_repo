{
 "cells": [
  {
   "cell_type": "code",
   "execution_count": 196,
   "metadata": {},
   "outputs": [],
   "source": [
    "import scipy.io\n",
    "import cv2\n",
    "import numpy as np\n",
    "import matplotlib.pyplot as plt\n",
    "import os\n",
    "from PIL import Image, ImageDraw"
   ]
  },
  {
   "cell_type": "code",
   "execution_count": 151,
   "metadata": {},
   "outputs": [],
   "source": [
    "mat = scipy.io.loadmat(r'\\\\wsl.localhost\\Ubuntu-20.04\\home\\hebb\\ml\\datasets\\egohand\\metadata.mat')"
   ]
  },
  {
   "cell_type": "code",
   "execution_count": 177,
   "metadata": {},
   "outputs": [],
   "source": [
    "'''\n",
    " - video_id\n",
    " - partner_video_id\n",
    " - ego_viewer_id\n",
    " - partner_id\n",
    " - location_id\n",
    " - activity_id\n",
    " - labeled_frames (array)  ---  frame_ids\n",
    "                           ---  polygons with hand segmentations\n",
    "'''\n",
    "\n",
    "# 1. 이미지에 mask 씌워서 확인\n",
    "\n",
    "mat['video'][:, 0][0][0]\n",
    "\n",
    "directory = mat['video'][:, 0][0][0]\n",
    "\n",
    "# 디렉토리 하나\n",
    "for mask in mat['video'][:, 0][0][6]:\n",
    "    for frame, *polys in mask:\n",
    "        mask = np.zeros(shape=(720, 1280), dtype=np.uint8)\n",
    "        polys = [poly.astype(np.int32) for poly in polys if len(poly) > 3]\n",
    "        cv2.fillPoly(mask, polys, 1)\n",
    "        break"
   ]
  },
  {
   "cell_type": "code",
   "execution_count": null,
   "metadata": {},
   "outputs": [],
   "source": [
    "base_path = r'\\\\wsl.localhost\\Ubuntu-20.04\\home\\hebb\\ml\\datasets\\egohand\\_LABELLED_SAMPLES\\CARDS_COURTYARD_B_T'\n",
    "img_path = os.path.join(base_path, f\"frame_{('0'*4+str(frame[0][0]))[-4:]}.jpg\")\n",
    "\n",
    "contours = cv2.findContours(mask, cv2.RETR_EXTERNAL, cv2.CHAIN_APPROX_NONE)\n",
    "# cv2.drawContours(mask, contours[0], -1, (255, 0, 0), 2)\n",
    "\n",
    "# plt.imshow(mask)\n",
    "img = Image.open(img_path)\n",
    "draw = ImageDraw.Draw(img)\n",
    "for contour in contours[0]:\n",
    "    draw.polygon(list(contour.reshape(1, -1)[0]), width=3)\n",
    "img"
   ]
  },
  {
   "cell_type": "code",
   "execution_count": 281,
   "metadata": {},
   "outputs": [],
   "source": [
    "def save_mask_egohand():\n",
    "    # 데이터셋 전체에 대한 메타 데이터\n",
    "    mat = scipy.io.loadmat(r'\\\\wsl.localhost\\Ubuntu-20.04\\home\\hebb\\ml\\datasets\\egohand\\metadata.mat')\n",
    "\n",
    "    # 전체 디렉토리    \n",
    "    for direc in range(48):\n",
    "        base_path = r'\\\\wsl.localhost\\Ubuntu-20.04\\home\\hebb\\ml\\datasets\\egohand\\_LABELLED_SAMPLES'\n",
    "        d_name = mat['video'][:, direc][0][0][0]\n",
    "        dir_path = os.path.join(base_path, d_name)\n",
    "\n",
    "        # 디렉토리 하나\n",
    "        for mask in mat['video'][:, direc][0][6]:\n",
    "            \n",
    "            # 이미지 하나\n",
    "            for frame, *polys in mask:\n",
    "                # 마스크 초기화\n",
    "                mask = np.zeros(shape=(720, 1280), dtype=np.uint8)\n",
    "\n",
    "                # 유효한 폴리곤 추출\n",
    "                polys = [poly.astype(np.int32) for poly in polys if len(poly) > 3]\n",
    "                \n",
    "                # 마스크에 폴리곤 데이터 씌워서 mask 로 만들기\n",
    "                cv2.fillPoly(mask, polys, 1)\n",
    "\n",
    "                # 저장할 경로\n",
    "                img_path = os.path.join(dir_path, f\"frame_{('0'*4+str(frame[0][0]))[-4:]}.jpg\")\n",
    "                save_path = os.path.join(dir_path, f\"mask_{('0'*4+str(frame[0][0]))[-4:]}.jpg\")\n",
    "                to_save = Image.fromarray(mask*255)\n",
    "                to_save.save(save_path)\n",
    "                ########### viz\n",
    "                # contours = cv2.findContours(mask, cv2.RETR_EXTERNAL, cv2.CHAIN_APPROX_NONE)\n",
    "                # cv2.drawContours(mask, contours[0], -1, (255, 0, 0), 2)\n",
    "\n",
    "                # plt.imshow(mask)\n",
    "                # img = Image.open(img_path)\n",
    "                # draw = ImageDraw.Draw(img)\n",
    "                # for contour in contours[0]:\n",
    "                #     draw.polygon(list(contour.reshape(1, -1)[0]), width=3)\n",
    "                # img"
   ]
  },
  {
   "cell_type": "code",
   "execution_count": 282,
   "metadata": {},
   "outputs": [],
   "source": [
    "save_mask_egohand()"
   ]
  },
  {
   "cell_type": "code",
   "execution_count": 258,
   "metadata": {},
   "outputs": [
    {
     "data": {
      "text/plain": [
       "array(['CARDS_COURTYARD_B_T'], dtype='<U19')"
      ]
     },
     "execution_count": 258,
     "metadata": {},
     "output_type": "execute_result"
    }
   ],
   "source": [
    "(mat['video'][:, 0][0][0])"
   ]
  }
 ],
 "metadata": {
  "kernelspec": {
   "display_name": "Python 3.8.13 ('ml')",
   "language": "python",
   "name": "python3"
  },
  "language_info": {
   "codemirror_mode": {
    "name": "ipython",
    "version": 3
   },
   "file_extension": ".py",
   "mimetype": "text/x-python",
   "name": "python",
   "nbconvert_exporter": "python",
   "pygments_lexer": "ipython3",
   "version": "3.8.13"
  },
  "orig_nbformat": 4,
  "vscode": {
   "interpreter": {
    "hash": "709cd8751d95dd4963018abf8a09bfd0af4b5f2a80d996782d6e3e302b255021"
   }
  }
 },
 "nbformat": 4,
 "nbformat_minor": 2
}
